{
 "cells": [
  {
   "cell_type": "code",
   "execution_count": 1,
   "metadata": {},
   "outputs": [],
   "source": [
    "import tensorflow as tf"
   ]
  },
  {
   "cell_type": "code",
   "execution_count": 2,
   "metadata": {},
   "outputs": [],
   "source": [
    "rank1_tensor = tf.Variable([\"Test\"], tf.string) \n",
    "rank2_tensor = tf.Variable([[\"test\", \"ok\"], [\"test\", \"yes\"]], tf.string)"
   ]
  },
  {
   "cell_type": "code",
   "execution_count": 3,
   "metadata": {},
   "outputs": [
    {
     "data": {
      "text/plain": [
       "<tf.Tensor: shape=(), dtype=int32, numpy=2>"
      ]
     },
     "execution_count": 3,
     "metadata": {},
     "output_type": "execute_result"
    }
   ],
   "source": [
    "tf.rank(rank2_tensor)"
   ]
  },
  {
   "attachments": {},
   "cell_type": "markdown",
   "metadata": {},
   "source": [
    "<!-- !shape is the the number elements in each dimension -->\n",
    "<!-- number of elements in the reshaped tensor must match the number of elements in the original -->"
   ]
  },
  {
   "cell_type": "code",
   "execution_count": 4,
   "metadata": {},
   "outputs": [
    {
     "data": {
      "text/plain": [
       "TensorShape([2, 2])"
      ]
     },
     "execution_count": 4,
     "metadata": {},
     "output_type": "execute_result"
    }
   ],
   "source": [
    "rank2_tensor.shape"
   ]
  },
  {
   "cell_type": "code",
   "execution_count": 5,
   "metadata": {},
   "outputs": [],
   "source": [
    "tensor1 = tf.ones([1,2,3])\n",
    "tensor2 = tf.reshape(tensor1, [2,3,1])\n",
    "tensor3 = tf.reshape(tensor2, [3, -1])"
   ]
  },
  {
   "cell_type": "code",
   "execution_count": 6,
   "metadata": {},
   "outputs": [
    {
     "name": "stdout",
     "output_type": "stream",
     "text": [
      "tf.Tensor(\n",
      "[[[[0. 0. 0. 0. 0.]\n",
      "   [0. 0. 0. 0. 0.]\n",
      "   [0. 0. 0. 0. 0.]\n",
      "   [0. 0. 0. 0. 0.]\n",
      "   [0. 0. 0. 0. 0.]]\n",
      "\n",
      "  [[0. 0. 0. 0. 0.]\n",
      "   [0. 0. 0. 0. 0.]\n",
      "   [0. 0. 0. 0. 0.]\n",
      "   [0. 0. 0. 0. 0.]\n",
      "   [0. 0. 0. 0. 0.]]\n",
      "\n",
      "  [[0. 0. 0. 0. 0.]\n",
      "   [0. 0. 0. 0. 0.]\n",
      "   [0. 0. 0. 0. 0.]\n",
      "   [0. 0. 0. 0. 0.]\n",
      "   [0. 0. 0. 0. 0.]]\n",
      "\n",
      "  [[0. 0. 0. 0. 0.]\n",
      "   [0. 0. 0. 0. 0.]\n",
      "   [0. 0. 0. 0. 0.]\n",
      "   [0. 0. 0. 0. 0.]\n",
      "   [0. 0. 0. 0. 0.]]\n",
      "\n",
      "  [[0. 0. 0. 0. 0.]\n",
      "   [0. 0. 0. 0. 0.]\n",
      "   [0. 0. 0. 0. 0.]\n",
      "   [0. 0. 0. 0. 0.]\n",
      "   [0. 0. 0. 0. 0.]]]\n",
      "\n",
      "\n",
      " [[[0. 0. 0. 0. 0.]\n",
      "   [0. 0. 0. 0. 0.]\n",
      "   [0. 0. 0. 0. 0.]\n",
      "   [0. 0. 0. 0. 0.]\n",
      "   [0. 0. 0. 0. 0.]]\n",
      "\n",
      "  [[0. 0. 0. 0. 0.]\n",
      "   [0. 0. 0. 0. 0.]\n",
      "   [0. 0. 0. 0. 0.]\n",
      "   [0. 0. 0. 0. 0.]\n",
      "   [0. 0. 0. 0. 0.]]\n",
      "\n",
      "  [[0. 0. 0. 0. 0.]\n",
      "   [0. 0. 0. 0. 0.]\n",
      "   [0. 0. 0. 0. 0.]\n",
      "   [0. 0. 0. 0. 0.]\n",
      "   [0. 0. 0. 0. 0.]]\n",
      "\n",
      "  [[0. 0. 0. 0. 0.]\n",
      "   [0. 0. 0. 0. 0.]\n",
      "   [0. 0. 0. 0. 0.]\n",
      "   [0. 0. 0. 0. 0.]\n",
      "   [0. 0. 0. 0. 0.]]\n",
      "\n",
      "  [[0. 0. 0. 0. 0.]\n",
      "   [0. 0. 0. 0. 0.]\n",
      "   [0. 0. 0. 0. 0.]\n",
      "   [0. 0. 0. 0. 0.]\n",
      "   [0. 0. 0. 0. 0.]]]\n",
      "\n",
      "\n",
      " [[[0. 0. 0. 0. 0.]\n",
      "   [0. 0. 0. 0. 0.]\n",
      "   [0. 0. 0. 0. 0.]\n",
      "   [0. 0. 0. 0. 0.]\n",
      "   [0. 0. 0. 0. 0.]]\n",
      "\n",
      "  [[0. 0. 0. 0. 0.]\n",
      "   [0. 0. 0. 0. 0.]\n",
      "   [0. 0. 0. 0. 0.]\n",
      "   [0. 0. 0. 0. 0.]\n",
      "   [0. 0. 0. 0. 0.]]\n",
      "\n",
      "  [[0. 0. 0. 0. 0.]\n",
      "   [0. 0. 0. 0. 0.]\n",
      "   [0. 0. 0. 0. 0.]\n",
      "   [0. 0. 0. 0. 0.]\n",
      "   [0. 0. 0. 0. 0.]]\n",
      "\n",
      "  [[0. 0. 0. 0. 0.]\n",
      "   [0. 0. 0. 0. 0.]\n",
      "   [0. 0. 0. 0. 0.]\n",
      "   [0. 0. 0. 0. 0.]\n",
      "   [0. 0. 0. 0. 0.]]\n",
      "\n",
      "  [[0. 0. 0. 0. 0.]\n",
      "   [0. 0. 0. 0. 0.]\n",
      "   [0. 0. 0. 0. 0.]\n",
      "   [0. 0. 0. 0. 0.]\n",
      "   [0. 0. 0. 0. 0.]]]\n",
      "\n",
      "\n",
      " [[[0. 0. 0. 0. 0.]\n",
      "   [0. 0. 0. 0. 0.]\n",
      "   [0. 0. 0. 0. 0.]\n",
      "   [0. 0. 0. 0. 0.]\n",
      "   [0. 0. 0. 0. 0.]]\n",
      "\n",
      "  [[0. 0. 0. 0. 0.]\n",
      "   [0. 0. 0. 0. 0.]\n",
      "   [0. 0. 0. 0. 0.]\n",
      "   [0. 0. 0. 0. 0.]\n",
      "   [0. 0. 0. 0. 0.]]\n",
      "\n",
      "  [[0. 0. 0. 0. 0.]\n",
      "   [0. 0. 0. 0. 0.]\n",
      "   [0. 0. 0. 0. 0.]\n",
      "   [0. 0. 0. 0. 0.]\n",
      "   [0. 0. 0. 0. 0.]]\n",
      "\n",
      "  [[0. 0. 0. 0. 0.]\n",
      "   [0. 0. 0. 0. 0.]\n",
      "   [0. 0. 0. 0. 0.]\n",
      "   [0. 0. 0. 0. 0.]\n",
      "   [0. 0. 0. 0. 0.]]\n",
      "\n",
      "  [[0. 0. 0. 0. 0.]\n",
      "   [0. 0. 0. 0. 0.]\n",
      "   [0. 0. 0. 0. 0.]\n",
      "   [0. 0. 0. 0. 0.]\n",
      "   [0. 0. 0. 0. 0.]]]\n",
      "\n",
      "\n",
      " [[[0. 0. 0. 0. 0.]\n",
      "   [0. 0. 0. 0. 0.]\n",
      "   [0. 0. 0. 0. 0.]\n",
      "   [0. 0. 0. 0. 0.]\n",
      "   [0. 0. 0. 0. 0.]]\n",
      "\n",
      "  [[0. 0. 0. 0. 0.]\n",
      "   [0. 0. 0. 0. 0.]\n",
      "   [0. 0. 0. 0. 0.]\n",
      "   [0. 0. 0. 0. 0.]\n",
      "   [0. 0. 0. 0. 0.]]\n",
      "\n",
      "  [[0. 0. 0. 0. 0.]\n",
      "   [0. 0. 0. 0. 0.]\n",
      "   [0. 0. 0. 0. 0.]\n",
      "   [0. 0. 0. 0. 0.]\n",
      "   [0. 0. 0. 0. 0.]]\n",
      "\n",
      "  [[0. 0. 0. 0. 0.]\n",
      "   [0. 0. 0. 0. 0.]\n",
      "   [0. 0. 0. 0. 0.]\n",
      "   [0. 0. 0. 0. 0.]\n",
      "   [0. 0. 0. 0. 0.]]\n",
      "\n",
      "  [[0. 0. 0. 0. 0.]\n",
      "   [0. 0. 0. 0. 0.]\n",
      "   [0. 0. 0. 0. 0.]\n",
      "   [0. 0. 0. 0. 0.]\n",
      "   [0. 0. 0. 0. 0.]]]], shape=(5, 5, 5, 5), dtype=float32)\n"
     ]
    }
   ],
   "source": [
    "t= tf.zeros([5,5,5,5])\n",
    "print(t)"
   ]
  },
  {
   "cell_type": "code",
   "execution_count": 7,
   "metadata": {},
   "outputs": [
    {
     "name": "stdout",
     "output_type": "stream",
     "text": [
      "tf.Tensor(\n",
      "[[0. 0. 0. 0. 0. 0. 0. 0. 0. 0. 0. 0. 0. 0. 0. 0. 0. 0. 0. 0. 0. 0. 0. 0.\n",
      "  0.]\n",
      " [0. 0. 0. 0. 0. 0. 0. 0. 0. 0. 0. 0. 0. 0. 0. 0. 0. 0. 0. 0. 0. 0. 0. 0.\n",
      "  0.]\n",
      " [0. 0. 0. 0. 0. 0. 0. 0. 0. 0. 0. 0. 0. 0. 0. 0. 0. 0. 0. 0. 0. 0. 0. 0.\n",
      "  0.]\n",
      " [0. 0. 0. 0. 0. 0. 0. 0. 0. 0. 0. 0. 0. 0. 0. 0. 0. 0. 0. 0. 0. 0. 0. 0.\n",
      "  0.]\n",
      " [0. 0. 0. 0. 0. 0. 0. 0. 0. 0. 0. 0. 0. 0. 0. 0. 0. 0. 0. 0. 0. 0. 0. 0.\n",
      "  0.]\n",
      " [0. 0. 0. 0. 0. 0. 0. 0. 0. 0. 0. 0. 0. 0. 0. 0. 0. 0. 0. 0. 0. 0. 0. 0.\n",
      "  0.]\n",
      " [0. 0. 0. 0. 0. 0. 0. 0. 0. 0. 0. 0. 0. 0. 0. 0. 0. 0. 0. 0. 0. 0. 0. 0.\n",
      "  0.]\n",
      " [0. 0. 0. 0. 0. 0. 0. 0. 0. 0. 0. 0. 0. 0. 0. 0. 0. 0. 0. 0. 0. 0. 0. 0.\n",
      "  0.]\n",
      " [0. 0. 0. 0. 0. 0. 0. 0. 0. 0. 0. 0. 0. 0. 0. 0. 0. 0. 0. 0. 0. 0. 0. 0.\n",
      "  0.]\n",
      " [0. 0. 0. 0. 0. 0. 0. 0. 0. 0. 0. 0. 0. 0. 0. 0. 0. 0. 0. 0. 0. 0. 0. 0.\n",
      "  0.]\n",
      " [0. 0. 0. 0. 0. 0. 0. 0. 0. 0. 0. 0. 0. 0. 0. 0. 0. 0. 0. 0. 0. 0. 0. 0.\n",
      "  0.]\n",
      " [0. 0. 0. 0. 0. 0. 0. 0. 0. 0. 0. 0. 0. 0. 0. 0. 0. 0. 0. 0. 0. 0. 0. 0.\n",
      "  0.]\n",
      " [0. 0. 0. 0. 0. 0. 0. 0. 0. 0. 0. 0. 0. 0. 0. 0. 0. 0. 0. 0. 0. 0. 0. 0.\n",
      "  0.]\n",
      " [0. 0. 0. 0. 0. 0. 0. 0. 0. 0. 0. 0. 0. 0. 0. 0. 0. 0. 0. 0. 0. 0. 0. 0.\n",
      "  0.]\n",
      " [0. 0. 0. 0. 0. 0. 0. 0. 0. 0. 0. 0. 0. 0. 0. 0. 0. 0. 0. 0. 0. 0. 0. 0.\n",
      "  0.]\n",
      " [0. 0. 0. 0. 0. 0. 0. 0. 0. 0. 0. 0. 0. 0. 0. 0. 0. 0. 0. 0. 0. 0. 0. 0.\n",
      "  0.]\n",
      " [0. 0. 0. 0. 0. 0. 0. 0. 0. 0. 0. 0. 0. 0. 0. 0. 0. 0. 0. 0. 0. 0. 0. 0.\n",
      "  0.]\n",
      " [0. 0. 0. 0. 0. 0. 0. 0. 0. 0. 0. 0. 0. 0. 0. 0. 0. 0. 0. 0. 0. 0. 0. 0.\n",
      "  0.]\n",
      " [0. 0. 0. 0. 0. 0. 0. 0. 0. 0. 0. 0. 0. 0. 0. 0. 0. 0. 0. 0. 0. 0. 0. 0.\n",
      "  0.]\n",
      " [0. 0. 0. 0. 0. 0. 0. 0. 0. 0. 0. 0. 0. 0. 0. 0. 0. 0. 0. 0. 0. 0. 0. 0.\n",
      "  0.]\n",
      " [0. 0. 0. 0. 0. 0. 0. 0. 0. 0. 0. 0. 0. 0. 0. 0. 0. 0. 0. 0. 0. 0. 0. 0.\n",
      "  0.]\n",
      " [0. 0. 0. 0. 0. 0. 0. 0. 0. 0. 0. 0. 0. 0. 0. 0. 0. 0. 0. 0. 0. 0. 0. 0.\n",
      "  0.]\n",
      " [0. 0. 0. 0. 0. 0. 0. 0. 0. 0. 0. 0. 0. 0. 0. 0. 0. 0. 0. 0. 0. 0. 0. 0.\n",
      "  0.]\n",
      " [0. 0. 0. 0. 0. 0. 0. 0. 0. 0. 0. 0. 0. 0. 0. 0. 0. 0. 0. 0. 0. 0. 0. 0.\n",
      "  0.]\n",
      " [0. 0. 0. 0. 0. 0. 0. 0. 0. 0. 0. 0. 0. 0. 0. 0. 0. 0. 0. 0. 0. 0. 0. 0.\n",
      "  0.]], shape=(25, 25), dtype=float32)\n"
     ]
    }
   ],
   "source": [
    "tr=tf.reshape(t,[25, -1])\n",
    "print(tr)"
   ]
  },
  {
   "attachments": {},
   "cell_type": "markdown",
   "metadata": {},
   "source": [
    "LINEAR REGRESSION\n",
    "linear correspondence among the given data points\n",
    " "
   ]
  },
  {
   "cell_type": "code",
   "execution_count": 8,
   "metadata": {},
   "outputs": [
    {
     "data": {
      "text/plain": [
       "(0.0, 6.0, 0.0, 20.0)"
      ]
     },
     "execution_count": 8,
     "metadata": {},
     "output_type": "execute_result"
    },
    {
     "data": {
      "image/png": "[encoded data removed]",
      "text/plain": [
       "<Figure size 640x480 with 1 Axes>"
      ]
     },
     "metadata": {},
     "output_type": "display_data"
    }
   ],
   "source": [
    "import matplotlib.pyplot as plt\n",
    "import numpy as np\n",
    "import pandas as pd\n",
    "\n",
    "x = [1, 2, 2.5, 3, 4]\n",
    "y = [1, 4, 7, 9, 15]\n",
    "plt.plot(x, y, 'ro')\n",
    "plt.axis([0, 6, 0, 20])"
   ]
  },
  {
   "cell_type": "code",
   "execution_count": 9,
   "metadata": {},
   "outputs": [
    {
     "data": {
      "image/png": "[encoded data removed]",
      "text/plain": [
       "<Figure size 640x480 with 1 Axes>"
      ]
     },
     "metadata": {},
     "output_type": "display_data"
    }
   ],
   "source": [
    "plt.plot(x, y,'ro' )\n",
    "plt.axis([0, 6, 0, 20])\n",
    "plt.plot(np.unique(x), np.poly1d(np.polyfit(x, y, 1))(np.unique(x)))\n",
    "plt.show()"
   ]
  },
  {
   "cell_type": "code",
   "execution_count": 12,
   "metadata": {},
   "outputs": [],
   "source": [
    "dftrain = pd.read_csv('https://storage.googleapis.com/tf-datasets/titanic/train.csv') # training data\n",
    "dfeval = pd.read_csv('https://storage.googleapis.com/tf-datasets/titanic/eval.csv') # testing data\n",
    "# the pop removes the survived column from the data and assigns it to y train\n",
    "y_train = dftrain.pop('survived')\n",
    "# similar to the above\n",
    "y_eval = dfeval.pop('survived')"
   ]
  },
  {
   "cell_type": "code",
   "execution_count": null,
   "metadata": {},
   "outputs": [
    {
     "data": {
      "text/html": [
       "<div>\n",
       "<style scoped>\n",
       "    .dataframe tbody tr th:only-of-type {\n",
       "        vertical-align: middle;\n",
       "    }\n",
       "\n",
       "    .dataframe tbody tr th {\n",
       "        vertical-align: top;\n",
       "    }\n",
       "\n",
       "    .dataframe thead th {\n",
       "        text-align: right;\n",
       "    }\n",
       "</style>\n",
       "<table border=\"1\" class=\"dataframe\">\n",
       "  <thead>\n",
       "    <tr style=\"text-align: right;\">\n",
       "      <th></th>\n",
       "      <th>sex</th>\n",
       "      <th>age</th>\n",
       "      <th>n_siblings_spouses</th>\n",
       "      <th>parch</th>\n",
       "      <th>fare</th>\n",
       "      <th>class</th>\n",
       "      <th>deck</th>\n",
       "      <th>embark_town</th>\n",
       "      <th>alone</th>\n",
       "    </tr>\n",
       "  </thead>\n",
       "  <tbody>\n",
       "    <tr>\n",
       "      <th>0</th>\n",
       "      <td>male</td>\n",
       "      <td>22.0</td>\n",
       "      <td>1</td>\n",
       "      <td>0</td>\n",
       "      <td>7.2500</td>\n",
       "      <td>Third</td>\n",
       "      <td>unknown</td>\n",
       "      <td>Southampton</td>\n",
       "      <td>n</td>\n",
       "    </tr>\n",
       "    <tr>\n",
       "      <th>1</th>\n",
       "      <td>female</td>\n",
       "      <td>38.0</td>\n",
       "      <td>1</td>\n",
       "      <td>0</td>\n",
       "      <td>71.2833</td>\n",
       "      <td>First</td>\n",
       "      <td>C</td>\n",
       "      <td>Cherbourg</td>\n",
       "      <td>n</td>\n",
       "    </tr>\n",
       "    <tr>\n",
       "      <th>2</th>\n",
       "      <td>female</td>\n",
       "      <td>26.0</td>\n",
       "      <td>0</td>\n",
       "      <td>0</td>\n",
       "      <td>7.9250</td>\n",
       "      <td>Third</td>\n",
       "      <td>unknown</td>\n",
       "      <td>Southampton</td>\n",
       "      <td>y</td>\n",
       "    </tr>\n",
       "    <tr>\n",
       "      <th>3</th>\n",
       "      <td>female</td>\n",
       "      <td>35.0</td>\n",
       "      <td>1</td>\n",
       "      <td>0</td>\n",
       "      <td>53.1000</td>\n",
       "      <td>First</td>\n",
       "      <td>C</td>\n",
       "      <td>Southampton</td>\n",
       "      <td>n</td>\n",
       "    </tr>\n",
       "    <tr>\n",
       "      <th>4</th>\n",
       "      <td>male</td>\n",
       "      <td>28.0</td>\n",
       "      <td>0</td>\n",
       "      <td>0</td>\n",
       "      <td>8.4583</td>\n",
       "      <td>Third</td>\n",
       "      <td>unknown</td>\n",
       "      <td>Queenstown</td>\n",
       "      <td>y</td>\n",
       "    </tr>\n",
       "  </tbody>\n",
       "</table>\n",
       "</div>"
      ],
      "text/plain": [
       "      sex   age  n_siblings_spouses  parch     fare  class     deck  \\\n",
       "0    male  22.0                   1      0   7.2500  Third  unknown   \n",
       "1  female  38.0                   1      0  71.2833  First        C   \n",
       "2  female  26.0                   0      0   7.9250  Third  unknown   \n",
       "3  female  35.0                   1      0  53.1000  First        C   \n",
       "4    male  28.0                   0      0   8.4583  Third  unknown   \n",
       "\n",
       "   embark_town alone  \n",
       "0  Southampton     n  \n",
       "1    Cherbourg     n  \n",
       "2  Southampton     y  \n",
       "3  Southampton     n  \n",
       "4   Queenstown     y  "
      ]
     },
     "execution_count": 13,
     "metadata": {},
     "output_type": "execute_result"
    }
   ],
   "source": [
    "# show the above frame as a table\n",
    "# this return the first 5 rows of the data\n",
    "dftrain.head()"
   ]
  },
  {
   "cell_type": "code",
   "execution_count": null,
   "metadata": {},
   "outputs": [
    {
     "data": {
      "text/html": [
       "<div>\n",
       "<style scoped>\n",
       "    .dataframe tbody tr th:only-of-type {\n",
       "        vertical-align: middle;\n",
       "    }\n",
       "\n",
       "    .dataframe tbody tr th {\n",
       "        vertical-align: top;\n",
       "    }\n",
       "\n",
       "    .dataframe thead th {\n",
       "        text-align: right;\n",
       "    }\n",
       "</style>\n",
       "<table border=\"1\" class=\"dataframe\">\n",
       "  <thead>\n",
       "    <tr style=\"text-align: right;\">\n",
       "      <th></th>\n",
       "      <th>age</th>\n",
       "      <th>n_siblings_spouses</th>\n",
       "      <th>parch</th>\n",
       "      <th>fare</th>\n",
       "    </tr>\n",
       "  </thead>\n",
       "  <tbody>\n",
       "    <tr>\n",
       "      <th>count</th>\n",
       "      <td>627.000000</td>\n",
       "      <td>627.000000</td>\n",
       "      <td>627.000000</td>\n",
       "      <td>627.000000</td>\n",
       "    </tr>\n",
       "    <tr>\n",
       "      <th>mean</th>\n",
       "      <td>29.631308</td>\n",
       "      <td>0.545455</td>\n",
       "      <td>0.379585</td>\n",
       "      <td>34.385399</td>\n",
       "    </tr>\n",
       "    <tr>\n",
       "      <th>std</th>\n",
       "      <td>12.511818</td>\n",
       "      <td>1.151090</td>\n",
       "      <td>0.792999</td>\n",
       "      <td>54.597730</td>\n",
       "    </tr>\n",
       "    <tr>\n",
       "      <th>min</th>\n",
       "      <td>0.750000</td>\n",
       "      <td>0.000000</td>\n",
       "      <td>0.000000</td>\n",
       "      <td>0.000000</td>\n",
       "    </tr>\n",
       "    <tr>\n",
       "      <th>25%</th>\n",
       "      <td>23.000000</td>\n",
       "      <td>0.000000</td>\n",
       "      <td>0.000000</td>\n",
       "      <td>7.895800</td>\n",
       "    </tr>\n",
       "    <tr>\n",
       "      <th>50%</th>\n",
       "      <td>28.000000</td>\n",
       "      <td>0.000000</td>\n",
       "      <td>0.000000</td>\n",
       "      <td>15.045800</td>\n",
       "    </tr>\n",
       "    <tr>\n",
       "      <th>75%</th>\n",
       "      <td>35.000000</td>\n",
       "      <td>1.000000</td>\n",
       "      <td>0.000000</td>\n",
       "      <td>31.387500</td>\n",
       "    </tr>\n",
       "    <tr>\n",
       "      <th>max</th>\n",
       "      <td>80.000000</td>\n",
       "      <td>8.000000</td>\n",
       "      <td>5.000000</td>\n",
       "      <td>512.329200</td>\n",
       "    </tr>\n",
       "  </tbody>\n",
       "</table>\n",
       "</div>"
      ],
      "text/plain": [
       "              age  n_siblings_spouses       parch        fare\n",
       "count  627.000000          627.000000  627.000000  627.000000\n",
       "mean    29.631308            0.545455    0.379585   34.385399\n",
       "std     12.511818            1.151090    0.792999   54.597730\n",
       "min      0.750000            0.000000    0.000000    0.000000\n",
       "25%     23.000000            0.000000    0.000000    7.895800\n",
       "50%     28.000000            0.000000    0.000000   15.045800\n",
       "75%     35.000000            1.000000    0.000000   31.387500\n",
       "max     80.000000            8.000000    5.000000  512.329200"
      ]
     },
     "execution_count": 27,
     "metadata": {},
     "output_type": "execute_result"
    }
   ],
   "source": [
    "dftrain.describe()\n",
    "# return a more detailed general description of the data like mean, std, etc."
   ]
  },
  {
   "cell_type": "code",
   "execution_count": 13,
   "metadata": {},
   "outputs": [
    {
     "data": {
      "text/plain": [
       "(627, 9)"
      ]
     },
     "execution_count": 13,
     "metadata": {},
     "output_type": "execute_result"
    }
   ],
   "source": [
    "# So have have 627 entries and 9 features\n",
    "# describes the number of entries in the data and the columns so you basically dont have to count them\n",
    "dftrain.shape"
   ]
  },
  {
   "cell_type": "code",
   "execution_count": 14,
   "metadata": {},
   "outputs": [
    {
     "data": {
      "text/plain": [
       "0    0\n",
       "1    1\n",
       "2    1\n",
       "3    1\n",
       "4    0\n",
       "Name: survived, dtype: int64"
      ]
     },
     "execution_count": 14,
     "metadata": {},
     "output_type": "execute_result"
    }
   ],
   "source": [
    "y_train.head()"
   ]
  },
  {
   "cell_type": "code",
   "execution_count": 20,
   "metadata": {},
   "outputs": [
    {
     "data": {
      "text/plain": [
       "<Axes: >"
      ]
     },
     "execution_count": 20,
     "metadata": {},
     "output_type": "execute_result"
    },
    {
     "data": {
      "image/png": "[encoded data removed]",
      "text/plain": [
       "<Figure size 640x480 with 1 Axes>"
      ]
     },
     "metadata": {},
     "output_type": "display_data"
    }
   ],
   "source": [
    "dftrain.age.hist(bins=30)\n",
    "# the bins are the number of bars in the histogram to which the data is divided."
   ]
  },
  {
   "cell_type": "code",
   "execution_count": 18,
   "metadata": {},
   "outputs": [
    {
     "data": {
      "text/plain": [
       "sex                         male\n",
       "age                         28.0\n",
       "n_siblings_spouses             0\n",
       "parch                          0\n",
       "fare                      8.4583\n",
       "class                      Third\n",
       "deck                     unknown\n",
       "embark_town           Queenstown\n",
       "alone                          y\n",
       "Name: 4, dtype: object"
      ]
     },
     "execution_count": 18,
     "metadata": {},
     "output_type": "execute_result"
    }
   ],
   "source": [
    "dftrain.loc[4]\n",
    "# the above loc function  gets a specific object from the dataframe using its index\n"
   ]
  },
  {
   "cell_type": "code",
   "execution_count": 21,
   "metadata": {},
   "outputs": [],
   "source": [
    "# we always need to represent categorical data numerically\n",
    "# so we group categorical data and numeric data separately\n",
    "# \n",
    "\n",
    "# when training the model, you dont give it the dtata at once because of storage issues, you feed the model in batches of a given numbere.g bathes of 32.\n",
    "\n",
    "\n",
    "# epochs is the number of times the model sees the same data e.g if we have 10 epochs the model has seen the same data 10 times.\n",
    "# you play with epochs to see the accuracy it brings.\n"
   ]
  },
  {
   "cell_type": "code",
   "execution_count": 23,
   "metadata": {},
   "outputs": [
    {
     "name": "stdout",
     "output_type": "stream",
     "text": [
      "[VocabularyListCategoricalColumn(key='sex', vocabulary_list=('male', 'female'), dtype=tf.string, default_value=-1, num_oov_buckets=0), VocabularyListCategoricalColumn(key='n_siblings_spouses', vocabulary_list=(1, 0, 3, 4, 2, 5, 8), dtype=tf.int64, default_value=-1, num_oov_buckets=0), VocabularyListCategoricalColumn(key='parch', vocabulary_list=(0, 1, 2, 5, 3, 4), dtype=tf.int64, default_value=-1, num_oov_buckets=0), VocabularyListCategoricalColumn(key='class', vocabulary_list=('Third', 'First', 'Second'), dtype=tf.string, default_value=-1, num_oov_buckets=0), VocabularyListCategoricalColumn(key='deck', vocabulary_list=('unknown', 'C', 'G', 'A', 'B', 'D', 'F', 'E'), dtype=tf.string, default_value=-1, num_oov_buckets=0), VocabularyListCategoricalColumn(key='embark_town', vocabulary_list=('Southampton', 'Cherbourg', 'Queenstown', 'unknown'), dtype=tf.string, default_value=-1, num_oov_buckets=0), VocabularyListCategoricalColumn(key='alone', vocabulary_list=('n', 'y'), dtype=tf.string, default_value=-1, num_oov_buckets=0), NumericColumn(key='age', shape=(1,), default_value=None, dtype=tf.float32, normalizer_fn=None), NumericColumn(key='fare', shape=(1,), default_value=None, dtype=tf.float32, normalizer_fn=None)]\n"
     ]
    }
   ],
   "source": [
    "CATEGORICAL_COLUMNS = ['sex', 'n_siblings_spouses', 'parch', 'class', 'deck',\n",
    "                       'embark_town', 'alone']\n",
    "NUMERIC_COLUMNS = ['age', 'fare']\n",
    "\n",
    "feature_columns = []\n",
    "for feature_name in CATEGORICAL_COLUMNS:\n",
    "  vocabulary = dftrain[feature_name].unique()  # gets a list of all unique values from given feature column\n",
    "  feature_columns.append(tf.feature_column.categorical_column_with_vocabulary_list(feature_name, vocabulary))\n",
    "\n",
    "for feature_name in NUMERIC_COLUMNS:\n",
    "  feature_columns.append(tf.feature_column.numeric_column(feature_name, dtype=tf.float32))\n",
    "\n",
    "print(feature_columns)"
   ]
  },
  {
   "cell_type": "code",
   "execution_count": 24,
   "metadata": {},
   "outputs": [],
   "source": [
    "def make_input_fn(data_df, label_df, num_epochs=10, shuffle=True, batch_size=32):\n",
    "  def input_function():  # inner function, this will be returned\n",
    "    ds = tf.data.Dataset.from_tensor_slices((dict(data_df), label_df))  # create tf.data.Dataset object with data and its label\n",
    "    if shuffle:\n",
    "      ds = ds.shuffle(1000)  # randomize order of data\n",
    "    ds = ds.batch(batch_size).repeat(num_epochs)  # split dataset into batches of 32 and repeat process for number of epochs\n",
    "    return ds  # return a batch of the dataset\n",
    "  return input_function  # return a function object for use\n",
    "\n",
    "train_input_fn = make_input_fn(dftrain, y_train)  # here we will call the input_function that was returned to us to get a dataset object we can feed to the model\n",
    "eval_input_fn = make_input_fn(dfeval, y_eval, num_epochs=1, shuffle=False)"
   ]
  },
  {
   "cell_type": "code",
   "execution_count": 25,
   "metadata": {},
   "outputs": [
    {
     "name": "stdout",
     "output_type": "stream",
     "text": [
      "INFO:tensorflow:Using default config.\n",
      "WARNING:tensorflow:Using temporary folder as model directory: C:\\Users\\PHILIP\\AppData\\Local\\Temp\\tmp99u9n8cl\n",
      "INFO:tensorflow:Using config: {'_model_dir': 'C:\\\\Users\\\\PHILIP\\\\AppData\\\\Local\\\\Temp\\\\tmp99u9n8cl', '_tf_random_seed': None, '_save_summary_steps': 100, '_save_checkpoints_steps': None, '_save_checkpoints_secs': 600, '_session_config': allow_soft_placement: true\n",
      "graph_options {\n",
      "  rewrite_options {\n",
      "    meta_optimizer_iterations: ONE\n",
      "  }\n",
      "}\n",
      ", '_keep_checkpoint_max': 5, '_keep_checkpoint_every_n_hours': 10000, '_log_step_count_steps': 100, '_train_distribute': None, '_device_fn': None, '_protocol': None, '_eval_distribute': None, '_experimental_distribute': None, '_experimental_max_worker_delay_secs': None, '_session_creation_timeout_secs': 7200, '_checkpoint_save_graph_def': True, '_service': None, '_cluster_spec': ClusterSpec({}), '_task_type': 'worker', '_task_id': 0, '_global_id_in_cluster': 0, '_master': '', '_evaluation_master': '', '_is_chief': True, '_num_ps_replicas': 0, '_num_worker_replicas': 1}\n"
     ]
    }
   ],
   "source": [
    "linear_est = tf.estimator.LinearClassifier(feature_columns=feature_columns)"
   ]
  },
  {
   "cell_type": "code",
   "execution_count": 27,
   "metadata": {},
   "outputs": [
    {
     "name": "stdout",
     "output_type": "stream",
     "text": [
      "INFO:tensorflow:Calling model_fn.\n",
      "INFO:tensorflow:Done calling model_fn.\n",
      "INFO:tensorflow:Create CheckpointSaverHook.\n",
      "INFO:tensorflow:Graph was finalized.\n",
      "INFO:tensorflow:Restoring parameters from C:\\Users\\PHILIP\\AppData\\Local\\Temp\\tmp99u9n8cl\\model.ckpt-200\n",
      "WARNING:tensorflow:From c:\\Users\\PHILIP\\AppData\\Local\\Programs\\Python\\Python310\\lib\\site-packages\\tensorflow\\python\\training\\saver.py:1173: get_checkpoint_mtimes (from tensorflow.python.checkpoint.checkpoint_management) is deprecated and will be removed in a future version.\n",
      "Instructions for updating:\n",
      "Use standard file utilities to get mtimes.\n",
      "INFO:tensorflow:Running local_init_op.\n",
      "INFO:tensorflow:Done running local_init_op.\n",
      "INFO:tensorflow:Calling checkpoint listeners before saving checkpoint 200...\n",
      "INFO:tensorflow:Saving checkpoints for 200 into C:\\Users\\PHILIP\\AppData\\Local\\Temp\\tmp99u9n8cl\\model.ckpt.\n",
      "INFO:tensorflow:Calling checkpoint listeners after saving checkpoint 200...\n",
      "INFO:tensorflow:loss = 0.48185974, step = 200\n",
      "INFO:tensorflow:global_step/sec: 58.0569\n",
      "INFO:tensorflow:loss = 0.41051275, step = 300 (1.733 sec)\n",
      "INFO:tensorflow:Calling checkpoint listeners before saving checkpoint 400...\n",
      "INFO:tensorflow:Saving checkpoints for 400 into C:\\Users\\PHILIP\\AppData\\Local\\Temp\\tmp99u9n8cl\\model.ckpt.\n",
      "INFO:tensorflow:Calling checkpoint listeners after saving checkpoint 400...\n",
      "INFO:tensorflow:Loss for final step: 0.3305016.\n",
      "INFO:tensorflow:Calling model_fn.\n",
      "INFO:tensorflow:Done calling model_fn.\n",
      "INFO:tensorflow:Starting evaluation at 2023-03-20T21:59:25\n",
      "INFO:tensorflow:Graph was finalized.\n",
      "INFO:tensorflow:Restoring parameters from C:\\Users\\PHILIP\\AppData\\Local\\Temp\\tmp99u9n8cl\\model.ckpt-400\n",
      "INFO:tensorflow:Running local_init_op.\n",
      "INFO:tensorflow:Done running local_init_op.\n",
      "INFO:tensorflow:Inference Time : 3.05739s\n",
      "INFO:tensorflow:Finished evaluation at 2023-03-20-21:59:28\n",
      "INFO:tensorflow:Saving dict for global step 400: accuracy = 0.7689394, accuracy_baseline = 0.625, auc = 0.8350474, auc_precision_recall = 0.79340434, average_loss = 0.46888483, global_step = 400, label/mean = 0.375, loss = 0.45755804, precision = 0.6938776, prediction/mean = 0.3863437, recall = 0.68686867\n",
      "INFO:tensorflow:Saving 'checkpoint_path' summary for global step 400: C:\\Users\\PHILIP\\AppData\\Local\\Temp\\tmp99u9n8cl\\model.ckpt-400\n",
      "0.7689394\n"
     ]
    }
   ],
   "source": [
    "linear_est.train(train_input_fn)  # train\n",
    "result = linear_est.evaluate(eval_input_fn)  # get model metrics/stats by testing on tetsing data\n",
    "\n",
    "# clear_output()  # clears consoke output\n",
    "print(result['accuracy']) "
   ]
  },
  {
   "cell_type": "code",
   "execution_count": 31,
   "metadata": {},
   "outputs": [
    {
     "name": "stdout",
     "output_type": "stream",
     "text": [
      "INFO:tensorflow:Calling model_fn.\n",
      "INFO:tensorflow:Done calling model_fn.\n",
      "INFO:tensorflow:Graph was finalized.\n",
      "INFO:tensorflow:Restoring parameters from C:\\Users\\PHILIP\\AppData\\Local\\Temp\\tmp99u9n8cl\\model.ckpt-400\n",
      "INFO:tensorflow:Running local_init_op.\n",
      "INFO:tensorflow:Done running local_init_op.\n",
      "sex                          male\n",
      "age                          34.0\n",
      "n_siblings_spouses              0\n",
      "parch                           0\n",
      "fare                         13.0\n",
      "class                      Second\n",
      "deck                            D\n",
      "embark_town           Southampton\n",
      "alone                           y\n",
      "Name: 4, dtype: object\n",
      "[{'logits': array([-2.5824056], dtype=float32), 'logistic': array([0.07027939], dtype=float32), 'probabilities': array([0.92972064, 0.07027939], dtype=float32), 'class_ids': array([0], dtype=int64), 'classes': array([b'0'], dtype=object), 'all_class_ids': array([0, 1]), 'all_classes': array([b'0', b'1'], dtype=object)}, {'logits': array([-0.41100946], dtype=float32), 'logistic': array([0.3986701], dtype=float32), 'probabilities': array([0.6013299, 0.3986701], dtype=float32), 'class_ids': array([0], dtype=int64), 'classes': array([b'0'], dtype=object), 'all_class_ids': array([0, 1]), 'all_classes': array([b'0', b'1'], dtype=object)}, {'logits': array([0.99590516], dtype=float32), 'logistic': array([0.73025274], dtype=float32), 'probabilities': array([0.2697473 , 0.73025274], dtype=float32), 'class_ids': array([1], dtype=int64), 'classes': array([b'1'], dtype=object), 'all_class_ids': array([0, 1]), 'all_classes': array([b'0', b'1'], dtype=object)}, {'logits': array([0.51302135], dtype=float32), 'logistic': array([0.6255145], dtype=float32), 'probabilities': array([0.3744855 , 0.62551445], dtype=float32), 'class_ids': array([1], dtype=int64), 'classes': array([b'1'], dtype=object), 'all_class_ids': array([0, 1]), 'all_classes': array([b'0', b'1'], dtype=object)}, {'logits': array([-0.9460064], dtype=float32), 'logistic': array([0.27968866], dtype=float32), 'probabilities': array([0.72031134, 0.2796887 ], dtype=float32), 'class_ids': array([0], dtype=int64), 'classes': array([b'0'], dtype=object), 'all_class_ids': array([0, 1]), 'all_classes': array([b'0', b'1'], dtype=object)}, {'logits': array([1.2070373], dtype=float32), 'logistic': array([0.7697743], dtype=float32), 'probabilities': array([0.23022567, 0.7697743 ], dtype=float32), 'class_ids': array([1], dtype=int64), 'classes': array([b'1'], dtype=object), 'all_class_ids': array([0, 1]), 'all_classes': array([b'0', b'1'], dtype=object)}, {'logits': array([0.02120492], dtype=float32), 'logistic': array([0.505301], dtype=float32), 'probabilities': array([0.49469897, 0.50530106], dtype=float32), 'class_ids': array([1], dtype=int64), 'classes': array([b'1'], dtype=object), 'all_class_ids': array([0, 1]), 'all_classes': array([b'0', b'1'], dtype=object)}, {'logits': array([-2.1154082], dtype=float32), 'logistic': array([0.10760823], dtype=float32), 'probabilities': array([0.8923918 , 0.10760823], dtype=float32), 'class_ids': array([0], dtype=int64), 'classes': array([b'0'], dtype=object), 'all_class_ids': array([0, 1]), 'all_classes': array([b'0', b'1'], dtype=object)}, {'logits': array([0.52189505], dtype=float32), 'logistic': array([0.6275908], dtype=float32), 'probabilities': array([0.37240922, 0.6275908 ], dtype=float32), 'class_ids': array([1], dtype=int64), 'classes': array([b'1'], dtype=object), 'all_class_ids': array([0, 1]), 'all_classes': array([b'0', b'1'], dtype=object)}, {'logits': array([1.0729508], dtype=float32), 'logistic': array([0.74515766], dtype=float32), 'probabilities': array([0.25484234, 0.74515766], dtype=float32), 'class_ids': array([1], dtype=int64), 'classes': array([b'1'], dtype=object), 'all_class_ids': array([0, 1]), 'all_classes': array([b'0', b'1'], dtype=object)}, {'logits': array([0.7721709], dtype=float32), 'logistic': array([0.6839903], dtype=float32), 'probabilities': array([0.3160097 , 0.68399036], dtype=float32), 'class_ids': array([1], dtype=int64), 'classes': array([b'1'], dtype=object), 'all_class_ids': array([0, 1]), 'all_classes': array([b'0', b'1'], dtype=object)}, {'logits': array([-2.1165054], dtype=float32), 'logistic': array([0.10750291], dtype=float32), 'probabilities': array([0.8924971 , 0.10750291], dtype=float32), 'class_ids': array([0], dtype=int64), 'classes': array([b'0'], dtype=object), 'all_class_ids': array([0, 1]), 'all_classes': array([b'0', b'1'], dtype=object)}, {'logits': array([2.0455613], dtype=float32), 'logistic': array([0.8854984], dtype=float32), 'probabilities': array([0.11450164, 0.8854983 ], dtype=float32), 'class_ids': array([1], dtype=int64), 'classes': array([b'1'], dtype=object), 'all_class_ids': array([0, 1]), 'all_classes': array([b'0', b'1'], dtype=object)}, {'logits': array([-0.3715841], dtype=float32), 'logistic': array([0.40815833], dtype=float32), 'probabilities': array([0.5918417 , 0.40815833], dtype=float32), 'class_ids': array([0], dtype=int64), 'classes': array([b'0'], dtype=object), 'all_class_ids': array([0, 1]), 'all_classes': array([b'0', b'1'], dtype=object)}, {'logits': array([1.8429416], dtype=float32), 'logistic': array([0.8632963], dtype=float32), 'probabilities': array([0.13670376, 0.8632962 ], dtype=float32), 'class_ids': array([1], dtype=int64), 'classes': array([b'1'], dtype=object), 'all_class_ids': array([0, 1]), 'all_classes': array([b'0', b'1'], dtype=object)}, {'logits': array([0.08964893], dtype=float32), 'logistic': array([0.5223973], dtype=float32), 'probabilities': array([0.47760272, 0.5223972 ], dtype=float32), 'class_ids': array([1], dtype=int64), 'classes': array([b'1'], dtype=object), 'all_class_ids': array([0, 1]), 'all_classes': array([b'0', b'1'], dtype=object)}, {'logits': array([-1.737563], dtype=float32), 'logistic': array([0.14962275], dtype=float32), 'probabilities': array([0.85037726, 0.14962274], dtype=float32), 'class_ids': array([0], dtype=int64), 'classes': array([b'0'], dtype=object), 'all_class_ids': array([0, 1]), 'all_classes': array([b'0', b'1'], dtype=object)}, {'logits': array([1.7564465], dtype=float32), 'logistic': array([0.85276407], dtype=float32), 'probabilities': array([0.14723594, 0.85276407], dtype=float32), 'class_ids': array([1], dtype=int64), 'classes': array([b'1'], dtype=object), 'all_class_ids': array([0, 1]), 'all_classes': array([b'0', b'1'], dtype=object)}, {'logits': array([-0.9613377], dtype=float32), 'logistic': array([0.27661046], dtype=float32), 'probabilities': array([0.7233895 , 0.27661043], dtype=float32), 'class_ids': array([0], dtype=int64), 'classes': array([b'0'], dtype=object), 'all_class_ids': array([0, 1]), 'all_classes': array([b'0', b'1'], dtype=object)}, {'logits': array([-2.382264], dtype=float32), 'logistic': array([0.0845352], dtype=float32), 'probabilities': array([0.91546476, 0.0845352 ], dtype=float32), 'class_ids': array([0], dtype=int64), 'classes': array([b'0'], dtype=object), 'all_class_ids': array([0, 1]), 'all_classes': array([b'0', b'1'], dtype=object)}, {'logits': array([-2.0829103], dtype=float32), 'logistic': array([0.11076898], dtype=float32), 'probabilities': array([0.889231  , 0.11076898], dtype=float32), 'class_ids': array([0], dtype=int64), 'classes': array([b'0'], dtype=object), 'all_class_ids': array([0, 1]), 'all_classes': array([b'0', b'1'], dtype=object)}, {'logits': array([-2.4141004], dtype=float32), 'logistic': array([0.08210377], dtype=float32), 'probabilities': array([0.9178963 , 0.08210377], dtype=float32), 'class_ids': array([0], dtype=int64), 'classes': array([b'0'], dtype=object), 'all_class_ids': array([0, 1]), 'all_classes': array([b'0', b'1'], dtype=object)}, {'logits': array([0.78915083], dtype=float32), 'logistic': array([0.68764895], dtype=float32), 'probabilities': array([0.31235105, 0.687649  ], dtype=float32), 'class_ids': array([1], dtype=int64), 'classes': array([b'1'], dtype=object), 'all_class_ids': array([0, 1]), 'all_classes': array([b'0', b'1'], dtype=object)}, {'logits': array([-2.6831534], dtype=float32), 'logistic': array([0.06397478], dtype=float32), 'probabilities': array([0.9360252 , 0.06397478], dtype=float32), 'class_ids': array([0], dtype=int64), 'classes': array([b'0'], dtype=object), 'all_class_ids': array([0, 1]), 'all_classes': array([b'0', b'1'], dtype=object)}, {'logits': array([0.8213345], dtype=float32), 'logistic': array([0.6945195], dtype=float32), 'probabilities': array([0.30548045, 0.6945195 ], dtype=float32), 'class_ids': array([1], dtype=int64), 'classes': array([b'1'], dtype=object), 'all_class_ids': array([0, 1]), 'all_classes': array([b'0', b'1'], dtype=object)}, {'logits': array([0.3463286], dtype=float32), 'logistic': array([0.58572704], dtype=float32), 'probabilities': array([0.414273, 0.585727], dtype=float32), 'class_ids': array([1], dtype=int64), 'classes': array([b'1'], dtype=object), 'all_class_ids': array([0, 1]), 'all_classes': array([b'0', b'1'], dtype=object)}, {'logits': array([-1.4195327], dtype=float32), 'logistic': array([0.19473486], dtype=float32), 'probabilities': array([0.8052651 , 0.19473486], dtype=float32), 'class_ids': array([0], dtype=int64), 'classes': array([b'0'], dtype=object), 'all_class_ids': array([0, 1]), 'all_classes': array([b'0', b'1'], dtype=object)}, {'logits': array([-0.94173944], dtype=float32), 'logistic': array([0.2805491], dtype=float32), 'probabilities': array([0.7194509 , 0.28054914], dtype=float32), 'class_ids': array([0], dtype=int64), 'classes': array([b'0'], dtype=object), 'all_class_ids': array([0, 1]), 'all_classes': array([b'0', b'1'], dtype=object)}, {'logits': array([-1.2846655], dtype=float32), 'logistic': array([0.2167571], dtype=float32), 'probabilities': array([0.7832429, 0.2167571], dtype=float32), 'class_ids': array([0], dtype=int64), 'classes': array([b'0'], dtype=object), 'all_class_ids': array([0, 1]), 'all_classes': array([b'0', b'1'], dtype=object)}, {'logits': array([1.7491937], dtype=float32), 'logistic': array([0.85185105], dtype=float32), 'probabilities': array([0.14814894, 0.8518511 ], dtype=float32), 'class_ids': array([1], dtype=int64), 'classes': array([b'1'], dtype=object), 'all_class_ids': array([0, 1]), 'all_classes': array([b'0', b'1'], dtype=object)}, {'logits': array([-1.9891282], dtype=float32), 'logistic': array([0.12034912], dtype=float32), 'probabilities': array([0.8796509 , 0.12034912], dtype=float32), 'class_ids': array([0], dtype=int64), 'classes': array([b'0'], dtype=object), 'all_class_ids': array([0, 1]), 'all_classes': array([b'0', b'1'], dtype=object)}, {'logits': array([1.4134752], dtype=float32), 'logistic': array([0.8043135], dtype=float32), 'probabilities': array([0.1956865, 0.8043134], dtype=float32), 'class_ids': array([1], dtype=int64), 'classes': array([b'1'], dtype=object), 'all_class_ids': array([0, 1]), 'all_classes': array([b'0', b'1'], dtype=object)}, {'logits': array([-1.4057509], dtype=float32), 'logistic': array([0.19690512], dtype=float32), 'probabilities': array([0.80309486, 0.19690512], dtype=float32), 'class_ids': array([0], dtype=int64), 'classes': array([b'0'], dtype=object), 'all_class_ids': array([0, 1]), 'all_classes': array([b'0', b'1'], dtype=object)}, {'logits': array([0.7143513], dtype=float32), 'logistic': array([0.6713619], dtype=float32), 'probabilities': array([0.32863808, 0.6713619 ], dtype=float32), 'class_ids': array([1], dtype=int64), 'classes': array([b'1'], dtype=object), 'all_class_ids': array([0, 1]), 'all_classes': array([b'0', b'1'], dtype=object)}, {'logits': array([-0.9864011], dtype=float32), 'logistic': array([0.27162352], dtype=float32), 'probabilities': array([0.7283765 , 0.27162352], dtype=float32), 'class_ids': array([0], dtype=int64), 'classes': array([b'0'], dtype=object), 'all_class_ids': array([0, 1]), 'all_classes': array([b'0', b'1'], dtype=object)}, {'logits': array([-2.3166656], dtype=float32), 'logistic': array([0.08975209], dtype=float32), 'probabilities': array([0.9102479 , 0.08975209], dtype=float32), 'class_ids': array([0], dtype=int64), 'classes': array([b'0'], dtype=object), 'all_class_ids': array([0, 1]), 'all_classes': array([b'0', b'1'], dtype=object)}, {'logits': array([-1.7005125], dtype=float32), 'logistic': array([0.15439834], dtype=float32), 'probabilities': array([0.8456017 , 0.15439834], dtype=float32), 'class_ids': array([0], dtype=int64), 'classes': array([b'0'], dtype=object), 'all_class_ids': array([0, 1]), 'all_classes': array([b'0', b'1'], dtype=object)}, {'logits': array([-1.9728197], dtype=float32), 'logistic': array([0.12208635], dtype=float32), 'probabilities': array([0.87791365, 0.12208635], dtype=float32), 'class_ids': array([0], dtype=int64), 'classes': array([b'0'], dtype=object), 'all_class_ids': array([0, 1]), 'all_classes': array([b'0', b'1'], dtype=object)}, {'logits': array([2.3618233], dtype=float32), 'logistic': array([0.91386944], dtype=float32), 'probabilities': array([0.08613057, 0.91386944], dtype=float32), 'class_ids': array([1], dtype=int64), 'classes': array([b'1'], dtype=object), 'all_class_ids': array([0, 1]), 'all_classes': array([b'0', b'1'], dtype=object)}, {'logits': array([-2.415621], dtype=float32), 'logistic': array([0.08198924], dtype=float32), 'probabilities': array([0.9180108 , 0.08198924], dtype=float32), 'class_ids': array([0], dtype=int64), 'classes': array([b'0'], dtype=object), 'all_class_ids': array([0, 1]), 'all_classes': array([b'0', b'1'], dtype=object)}, {'logits': array([1.0122788], dtype=float32), 'logistic': array([0.7334659], dtype=float32), 'probabilities': array([0.26653412, 0.73346585], dtype=float32), 'class_ids': array([1], dtype=int64), 'classes': array([b'1'], dtype=object), 'all_class_ids': array([0, 1]), 'all_classes': array([b'0', b'1'], dtype=object)}, {'logits': array([-2.115364], dtype=float32), 'logistic': array([0.10761245], dtype=float32), 'probabilities': array([0.89238757, 0.10761246], dtype=float32), 'class_ids': array([0], dtype=int64), 'classes': array([b'0'], dtype=object), 'all_class_ids': array([0, 1]), 'all_classes': array([b'0', b'1'], dtype=object)}, {'logits': array([-0.52144444], dtype=float32), 'logistic': array([0.37251455], dtype=float32), 'probabilities': array([0.62748545, 0.37251455], dtype=float32), 'class_ids': array([0], dtype=int64), 'classes': array([b'0'], dtype=object), 'all_class_ids': array([0, 1]), 'all_classes': array([b'0', b'1'], dtype=object)}, {'logits': array([-0.90670645], dtype=float32), 'logistic': array([0.28767428], dtype=float32), 'probabilities': array([0.71232575, 0.28767428], dtype=float32), 'class_ids': array([0], dtype=int64), 'classes': array([b'0'], dtype=object), 'all_class_ids': array([0, 1]), 'all_classes': array([b'0', b'1'], dtype=object)}, {'logits': array([-1.405265], dtype=float32), 'logistic': array([0.19698197], dtype=float32), 'probabilities': array([0.80301803, 0.19698197], dtype=float32), 'class_ids': array([0], dtype=int64), 'classes': array([b'0'], dtype=object), 'all_class_ids': array([0, 1]), 'all_classes': array([b'0', b'1'], dtype=object)}, {'logits': array([1.5865444], dtype=float32), 'logistic': array([0.8301294], dtype=float32), 'probabilities': array([0.16987063, 0.8301293 ], dtype=float32), 'class_ids': array([1], dtype=int64), 'classes': array([b'1'], dtype=object), 'all_class_ids': array([0, 1]), 'all_classes': array([b'0', b'1'], dtype=object)}, {'logits': array([-2.1159568], dtype=float32), 'logistic': array([0.10755555], dtype=float32), 'probabilities': array([0.89244443, 0.10755555], dtype=float32), 'class_ids': array([0], dtype=int64), 'classes': array([b'0'], dtype=object), 'all_class_ids': array([0, 1]), 'all_classes': array([b'0', b'1'], dtype=object)}, {'logits': array([-0.7683425], dtype=float32), 'logistic': array([0.31683776], dtype=float32), 'probabilities': array([0.6831623, 0.3168378], dtype=float32), 'class_ids': array([0], dtype=int64), 'classes': array([b'0'], dtype=object), 'all_class_ids': array([0, 1]), 'all_classes': array([b'0', b'1'], dtype=object)}, {'logits': array([-0.29135576], dtype=float32), 'logistic': array([0.427672], dtype=float32), 'probabilities': array([0.572328, 0.427672], dtype=float32), 'class_ids': array([0], dtype=int64), 'classes': array([b'0'], dtype=object), 'all_class_ids': array([0, 1]), 'all_classes': array([b'0', b'1'], dtype=object)}, {'logits': array([-0.27685776], dtype=float32), 'logistic': array([0.43122432], dtype=float32), 'probabilities': array([0.56877565, 0.43122432], dtype=float32), 'class_ids': array([0], dtype=int64), 'classes': array([b'0'], dtype=object), 'all_class_ids': array([0, 1]), 'all_classes': array([b'0', b'1'], dtype=object)}, {'logits': array([-2.3854463], dtype=float32), 'logistic': array([0.08428924], dtype=float32), 'probabilities': array([0.91571075, 0.08428924], dtype=float32), 'class_ids': array([0], dtype=int64), 'classes': array([b'0'], dtype=object), 'all_class_ids': array([0, 1]), 'all_classes': array([b'0', b'1'], dtype=object)}, {'logits': array([-1.205609], dtype=float32), 'logistic': array([0.23047893], dtype=float32), 'probabilities': array([0.7695211 , 0.23047893], dtype=float32), 'class_ids': array([0], dtype=int64), 'classes': array([b'0'], dtype=object), 'all_class_ids': array([0, 1]), 'all_classes': array([b'0', b'1'], dtype=object)}, {'logits': array([-2.9674976], dtype=float32), 'logistic': array([0.04891601], dtype=float32), 'probabilities': array([0.95108396, 0.04891601], dtype=float32), 'class_ids': array([0], dtype=int64), 'classes': array([b'0'], dtype=object), 'all_class_ids': array([0, 1]), 'all_classes': array([b'0', b'1'], dtype=object)}, {'logits': array([-2.4090347], dtype=float32), 'logistic': array([0.08248635], dtype=float32), 'probabilities': array([0.91751367, 0.08248635], dtype=float32), 'class_ids': array([0], dtype=int64), 'classes': array([b'0'], dtype=object), 'all_class_ids': array([0, 1]), 'all_classes': array([b'0', b'1'], dtype=object)}, {'logits': array([-2.0153372], dtype=float32), 'logistic': array([0.11760198], dtype=float32), 'probabilities': array([0.88239795, 0.11760198], dtype=float32), 'class_ids': array([0], dtype=int64), 'classes': array([b'0'], dtype=object), 'all_class_ids': array([0, 1]), 'all_classes': array([b'0', b'1'], dtype=object)}, {'logits': array([-2.2198682], dtype=float32), 'logistic': array([0.09798046], dtype=float32), 'probabilities': array([0.90201956, 0.09798046], dtype=float32), 'class_ids': array([0], dtype=int64), 'classes': array([b'0'], dtype=object), 'all_class_ids': array([0, 1]), 'all_classes': array([b'0', b'1'], dtype=object)}, {'logits': array([-1.5725359], dtype=float32), 'logistic': array([0.17185518], dtype=float32), 'probabilities': array([0.8281448 , 0.17185518], dtype=float32), 'class_ids': array([0], dtype=int64), 'classes': array([b'0'], dtype=object), 'all_class_ids': array([0, 1]), 'all_classes': array([b'0', b'1'], dtype=object)}, {'logits': array([3.3744457], dtype=float32), 'logistic': array([0.9668963], dtype=float32), 'probabilities': array([0.03310372, 0.96689624], dtype=float32), 'class_ids': array([1], dtype=int64), 'classes': array([b'1'], dtype=object), 'all_class_ids': array([0, 1]), 'all_classes': array([b'0', b'1'], dtype=object)}, {'logits': array([-1.4724649], dtype=float32), 'logistic': array([0.18656825], dtype=float32), 'probabilities': array([0.8134318 , 0.18656826], dtype=float32), 'class_ids': array([0], dtype=int64), 'classes': array([b'0'], dtype=object), 'all_class_ids': array([0, 1]), 'all_classes': array([b'0', b'1'], dtype=object)}, {'logits': array([-2.3495836], dtype=float32), 'logistic': array([0.08709887], dtype=float32), 'probabilities': array([0.9129011 , 0.08709887], dtype=float32), 'class_ids': array([0], dtype=int64), 'classes': array([b'0'], dtype=object), 'all_class_ids': array([0, 1]), 'all_classes': array([b'0', b'1'], dtype=object)}, {'logits': array([-0.97549593], dtype=float32), 'logistic': array([0.2737864], dtype=float32), 'probabilities': array([0.7262136, 0.2737864], dtype=float32), 'class_ids': array([0], dtype=int64), 'classes': array([b'0'], dtype=object), 'all_class_ids': array([0, 1]), 'all_classes': array([b'0', b'1'], dtype=object)}, {'logits': array([0.2467514], dtype=float32), 'logistic': array([0.56137675], dtype=float32), 'probabilities': array([0.43862322, 0.56137675], dtype=float32), 'class_ids': array([1], dtype=int64), 'classes': array([b'1'], dtype=object), 'all_class_ids': array([0, 1]), 'all_classes': array([b'0', b'1'], dtype=object)}, {'logits': array([-1.383367], dtype=float32), 'logistic': array([0.20046881], dtype=float32), 'probabilities': array([0.7995312 , 0.20046881], dtype=float32), 'class_ids': array([0], dtype=int64), 'classes': array([b'0'], dtype=object), 'all_class_ids': array([0, 1]), 'all_classes': array([b'0', b'1'], dtype=object)}, {'logits': array([1.6707941], dtype=float32), 'logistic': array([0.84168166], dtype=float32), 'probabilities': array([0.15831833, 0.8416817 ], dtype=float32), 'class_ids': array([1], dtype=int64), 'classes': array([b'1'], dtype=object), 'all_class_ids': array([0, 1]), 'all_classes': array([b'0', b'1'], dtype=object)}, {'logits': array([-1.5501517], dtype=float32), 'logistic': array([0.17506436], dtype=float32), 'probabilities': array([0.8249356 , 0.17506436], dtype=float32), 'class_ids': array([0], dtype=int64), 'classes': array([b'0'], dtype=object), 'all_class_ids': array([0, 1]), 'all_classes': array([b'0', b'1'], dtype=object)}, {'logits': array([0.6562716], dtype=float32), 'logistic': array([0.65842235], dtype=float32), 'probabilities': array([0.34157768, 0.6584224 ], dtype=float32), 'class_ids': array([1], dtype=int64), 'classes': array([b'1'], dtype=object), 'all_class_ids': array([0, 1]), 'all_classes': array([b'0', b'1'], dtype=object)}, {'logits': array([-0.21511689], dtype=float32), 'logistic': array([0.4464272], dtype=float32), 'probabilities': array([0.5535728 , 0.44642723], dtype=float32), 'class_ids': array([0], dtype=int64), 'classes': array([b'0'], dtype=object), 'all_class_ids': array([0, 1]), 'all_classes': array([b'0', b'1'], dtype=object)}, {'logits': array([-2.3267636], dtype=float32), 'logistic': array([0.08893053], dtype=float32), 'probabilities': array([0.91106945, 0.08893053], dtype=float32), 'class_ids': array([0], dtype=int64), 'classes': array([b'0'], dtype=object), 'all_class_ids': array([0, 1]), 'all_classes': array([b'0', b'1'], dtype=object)}, {'logits': array([-2.043837], dtype=float32), 'logistic': array([0.11467659], dtype=float32), 'probabilities': array([0.88532335, 0.11467659], dtype=float32), 'class_ids': array([0], dtype=int64), 'classes': array([b'0'], dtype=object), 'all_class_ids': array([0, 1]), 'all_classes': array([b'0', b'1'], dtype=object)}, {'logits': array([0.6278801], dtype=float32), 'logistic': array([0.65200865], dtype=float32), 'probabilities': array([0.34799138, 0.65200865], dtype=float32), 'class_ids': array([1], dtype=int64), 'classes': array([b'1'], dtype=object), 'all_class_ids': array([0, 1]), 'all_classes': array([b'0', b'1'], dtype=object)}, {'logits': array([2.767742], dtype=float32), 'logistic': array([0.9409076], dtype=float32), 'probabilities': array([0.05909244, 0.9409076 ], dtype=float32), 'class_ids': array([1], dtype=int64), 'classes': array([b'1'], dtype=object), 'all_class_ids': array([0, 1]), 'all_classes': array([b'0', b'1'], dtype=object)}, {'logits': array([-0.10736623], dtype=float32), 'logistic': array([0.4731842], dtype=float32), 'probabilities': array([0.5268158, 0.4731842], dtype=float32), 'class_ids': array([0], dtype=int64), 'classes': array([b'0'], dtype=object), 'all_class_ids': array([0, 1]), 'all_classes': array([b'0', b'1'], dtype=object)}, {'logits': array([-3.368352], dtype=float32), 'logistic': array([0.03329932], dtype=float32), 'probabilities': array([0.9667007 , 0.03329932], dtype=float32), 'class_ids': array([0], dtype=int64), 'classes': array([b'0'], dtype=object), 'all_class_ids': array([0, 1]), 'all_classes': array([b'0', b'1'], dtype=object)}, {'logits': array([-2.0486941], dtype=float32), 'logistic': array([0.11418439], dtype=float32), 'probabilities': array([0.88581556, 0.11418439], dtype=float32), 'class_ids': array([0], dtype=int64), 'classes': array([b'0'], dtype=object), 'all_class_ids': array([0, 1]), 'all_classes': array([b'0', b'1'], dtype=object)}, {'logits': array([-1.985763], dtype=float32), 'logistic': array([0.12070585], dtype=float32), 'probabilities': array([0.87929416, 0.12070585], dtype=float32), 'class_ids': array([0], dtype=int64), 'classes': array([b'0'], dtype=object), 'all_class_ids': array([0, 1]), 'all_classes': array([b'0', b'1'], dtype=object)}, {'logits': array([-2.4092567], dtype=float32), 'logistic': array([0.08246955], dtype=float32), 'probabilities': array([0.9175304 , 0.08246955], dtype=float32), 'class_ids': array([0], dtype=int64), 'classes': array([b'0'], dtype=object), 'all_class_ids': array([0, 1]), 'all_classes': array([b'0', b'1'], dtype=object)}, {'logits': array([-2.1494417], dtype=float32), 'logistic': array([0.1043834], dtype=float32), 'probabilities': array([0.89561653, 0.1043834 ], dtype=float32), 'class_ids': array([0], dtype=int64), 'classes': array([b'0'], dtype=object), 'all_class_ids': array([0, 1]), 'all_classes': array([b'0', b'1'], dtype=object)}, {'logits': array([-1.9728197], dtype=float32), 'logistic': array([0.12208635], dtype=float32), 'probabilities': array([0.87791365, 0.12208635], dtype=float32), 'class_ids': array([0], dtype=int64), 'classes': array([b'0'], dtype=object), 'all_class_ids': array([0, 1]), 'all_classes': array([b'0', b'1'], dtype=object)}, {'logits': array([0.9723128], dtype=float32), 'logistic': array([0.7255802], dtype=float32), 'probabilities': array([0.27441972, 0.7255802 ], dtype=float32), 'class_ids': array([1], dtype=int64), 'classes': array([b'1'], dtype=object), 'all_class_ids': array([0, 1]), 'all_classes': array([b'0', b'1'], dtype=object)}, {'logits': array([3.6712883], dtype=float32), 'logistic': array([0.97518766], dtype=float32), 'probabilities': array([0.02481235, 0.97518766], dtype=float32), 'class_ids': array([1], dtype=int64), 'classes': array([b'1'], dtype=object), 'all_class_ids': array([0, 1]), 'all_classes': array([b'0', b'1'], dtype=object)}, {'logits': array([0.6943468], dtype=float32), 'logistic': array([0.6669332], dtype=float32), 'probabilities': array([0.3330668, 0.6669332], dtype=float32), 'class_ids': array([1], dtype=int64), 'classes': array([b'1'], dtype=object), 'all_class_ids': array([0, 1]), 'all_classes': array([b'0', b'1'], dtype=object)}, {'logits': array([-0.3715841], dtype=float32), 'logistic': array([0.40815833], dtype=float32), 'probabilities': array([0.5918417 , 0.40815833], dtype=float32), 'class_ids': array([0], dtype=int64), 'classes': array([b'0'], dtype=object), 'all_class_ids': array([0, 1]), 'all_classes': array([b'0', b'1'], dtype=object)}, {'logits': array([-1.6751627], dtype=float32), 'logistic': array([0.15773709], dtype=float32), 'probabilities': array([0.8422629 , 0.15773708], dtype=float32), 'class_ids': array([0], dtype=int64), 'classes': array([b'0'], dtype=object), 'all_class_ids': array([0, 1]), 'all_classes': array([b'0', b'1'], dtype=object)}, {'logits': array([3.225661], dtype=float32), 'logistic': array([0.9617886], dtype=float32), 'probabilities': array([0.03821139, 0.96178865], dtype=float32), 'class_ids': array([1], dtype=int64), 'classes': array([b'1'], dtype=object), 'all_class_ids': array([0, 1]), 'all_classes': array([b'0', b'1'], dtype=object)}, {'logits': array([-2.478866], dtype=float32), 'logistic': array([0.07735309], dtype=float32), 'probabilities': array([0.92264694, 0.0773531 ], dtype=float32), 'class_ids': array([0], dtype=int64), 'classes': array([b'0'], dtype=object), 'all_class_ids': array([0, 1]), 'all_classes': array([b'0', b'1'], dtype=object)}, {'logits': array([0.3553724], dtype=float32), 'logistic': array([0.5879198], dtype=float32), 'probabilities': array([0.41208023, 0.5879198 ], dtype=float32), 'class_ids': array([1], dtype=int64), 'classes': array([b'1'], dtype=object), 'all_class_ids': array([0, 1]), 'all_classes': array([b'0', b'1'], dtype=object)}, {'logits': array([0.6232623], dtype=float32), 'logistic': array([0.65096015], dtype=float32), 'probabilities': array([0.34903985, 0.65096015], dtype=float32), 'class_ids': array([1], dtype=int64), 'classes': array([b'1'], dtype=object), 'all_class_ids': array([0, 1]), 'all_classes': array([b'0', b'1'], dtype=object)}, {'logits': array([-2.3687143], dtype=float32), 'logistic': array([0.08558971], dtype=float32), 'probabilities': array([0.9144103 , 0.08558971], dtype=float32), 'class_ids': array([0], dtype=int64), 'classes': array([b'0'], dtype=object), 'all_class_ids': array([0, 1]), 'all_classes': array([b'0', b'1'], dtype=object)}, {'logits': array([1.5470057], dtype=float32), 'logistic': array([0.82448083], dtype=float32), 'probabilities': array([0.17551918, 0.8244809 ], dtype=float32), 'class_ids': array([1], dtype=int64), 'classes': array([b'1'], dtype=object), 'all_class_ids': array([0, 1]), 'all_classes': array([b'0', b'1'], dtype=object)}, {'logits': array([1.8935939], dtype=float32), 'logistic': array([0.86916476], dtype=float32), 'probabilities': array([0.13083524, 0.86916476], dtype=float32), 'class_ids': array([1], dtype=int64), 'classes': array([b'1'], dtype=object), 'all_class_ids': array([0, 1]), 'all_classes': array([b'0', b'1'], dtype=object)}, {'logits': array([3.4836495], dtype=float32), 'logistic': array([0.97021896], dtype=float32), 'probabilities': array([0.02978105, 0.97021896], dtype=float32), 'class_ids': array([1], dtype=int64), 'classes': array([b'1'], dtype=object), 'all_class_ids': array([0, 1]), 'all_classes': array([b'0', b'1'], dtype=object)}, {'logits': array([-1.484888], dtype=float32), 'logistic': array([0.18469027], dtype=float32), 'probabilities': array([0.81530976, 0.18469027], dtype=float32), 'class_ids': array([0], dtype=int64), 'classes': array([b'0'], dtype=object), 'all_class_ids': array([0, 1]), 'all_classes': array([b'0', b'1'], dtype=object)}, {'logits': array([-2.3177054], dtype=float32), 'logistic': array([0.08966719], dtype=float32), 'probabilities': array([0.91033286, 0.08966719], dtype=float32), 'class_ids': array([0], dtype=int64), 'classes': array([b'0'], dtype=object), 'all_class_ids': array([0, 1]), 'all_classes': array([b'0', b'1'], dtype=object)}, {'logits': array([3.8188963], dtype=float32), 'logistic': array([0.9785195], dtype=float32), 'probabilities': array([0.02148048, 0.9785195 ], dtype=float32), 'class_ids': array([1], dtype=int64), 'classes': array([b'1'], dtype=object), 'all_class_ids': array([0, 1]), 'all_classes': array([b'0', b'1'], dtype=object)}, {'logits': array([0.02026293], dtype=float32), 'logistic': array([0.50506556], dtype=float32), 'probabilities': array([0.49493444, 0.50506556], dtype=float32), 'class_ids': array([1], dtype=int64), 'classes': array([b'1'], dtype=object), 'all_class_ids': array([0, 1]), 'all_classes': array([b'0', b'1'], dtype=object)}, {'logits': array([1.6055048], dtype=float32), 'logistic': array([0.8327863], dtype=float32), 'probabilities': array([0.16721366, 0.8327864 ], dtype=float32), 'class_ids': array([1], dtype=int64), 'classes': array([b'1'], dtype=object), 'all_class_ids': array([0, 1]), 'all_classes': array([b'0', b'1'], dtype=object)}, {'logits': array([-1.3655622], dtype=float32), 'logistic': array([0.20333779], dtype=float32), 'probabilities': array([0.7966622 , 0.20333777], dtype=float32), 'class_ids': array([0], dtype=int64), 'classes': array([b'0'], dtype=object), 'all_class_ids': array([0, 1]), 'all_classes': array([b'0', b'1'], dtype=object)}, {'logits': array([-2.8132162], dtype=float32), 'logistic': array([0.05661416], dtype=float32), 'probabilities': array([0.9433859 , 0.05661417], dtype=float32), 'class_ids': array([0], dtype=int64), 'classes': array([b'0'], dtype=object), 'all_class_ids': array([0, 1]), 'all_classes': array([b'0', b'1'], dtype=object)}, {'logits': array([-2.1769645], dtype=float32), 'logistic': array([0.10183824], dtype=float32), 'probabilities': array([0.89816177, 0.10183824], dtype=float32), 'class_ids': array([0], dtype=int64), 'classes': array([b'0'], dtype=object), 'all_class_ids': array([0, 1]), 'all_classes': array([b'0', b'1'], dtype=object)}, {'logits': array([-0.87261105], dtype=float32), 'logistic': array([0.2947113], dtype=float32), 'probabilities': array([0.7052887, 0.2947113], dtype=float32), 'class_ids': array([0], dtype=int64), 'classes': array([b'0'], dtype=object), 'all_class_ids': array([0, 1]), 'all_classes': array([b'0', b'1'], dtype=object)}, {'logits': array([-2.4191322], dtype=float32), 'logistic': array([0.08172536], dtype=float32), 'probabilities': array([0.91827464, 0.08172536], dtype=float32), 'class_ids': array([0], dtype=int64), 'classes': array([b'0'], dtype=object), 'all_class_ids': array([0, 1]), 'all_classes': array([b'0', b'1'], dtype=object)}, {'logits': array([1.0885736], dtype=float32), 'logistic': array([0.74811304], dtype=float32), 'probabilities': array([0.25188696, 0.74811304], dtype=float32), 'class_ids': array([1], dtype=int64), 'classes': array([b'1'], dtype=object), 'all_class_ids': array([0, 1]), 'all_classes': array([b'0', b'1'], dtype=object)}, {'logits': array([0.3022047], dtype=float32), 'logistic': array([0.5749814], dtype=float32), 'probabilities': array([0.4250186, 0.5749814], dtype=float32), 'class_ids': array([1], dtype=int64), 'classes': array([b'1'], dtype=object), 'all_class_ids': array([0, 1]), 'all_classes': array([b'0', b'1'], dtype=object)}, {'logits': array([0.18798992], dtype=float32), 'logistic': array([0.5468595], dtype=float32), 'probabilities': array([0.45314044, 0.54685956], dtype=float32), 'class_ids': array([1], dtype=int64), 'classes': array([b'1'], dtype=object), 'all_class_ids': array([0, 1]), 'all_classes': array([b'0', b'1'], dtype=object)}, {'logits': array([0.7540382], dtype=float32), 'logistic': array([0.680058], dtype=float32), 'probabilities': array([0.31994203, 0.68005794], dtype=float32), 'class_ids': array([1], dtype=int64), 'classes': array([b'1'], dtype=object), 'all_class_ids': array([0, 1]), 'all_classes': array([b'0', b'1'], dtype=object)}, {'logits': array([-1.5725317], dtype=float32), 'logistic': array([0.17185578], dtype=float32), 'probabilities': array([0.8281442 , 0.17185578], dtype=float32), 'class_ids': array([0], dtype=int64), 'classes': array([b'0'], dtype=object), 'all_class_ids': array([0, 1]), 'all_classes': array([b'0', b'1'], dtype=object)}, {'logits': array([1.5640522], dtype=float32), 'logistic': array([0.82693404], dtype=float32), 'probabilities': array([0.17306596, 0.8269341 ], dtype=float32), 'class_ids': array([1], dtype=int64), 'classes': array([b'1'], dtype=object), 'all_class_ids': array([0, 1]), 'all_classes': array([b'0', b'1'], dtype=object)}, {'logits': array([1.869837], dtype=float32), 'logistic': array([0.8664394], dtype=float32), 'probabilities': array([0.13356057, 0.8664394 ], dtype=float32), 'class_ids': array([1], dtype=int64), 'classes': array([b'1'], dtype=object), 'all_class_ids': array([0, 1]), 'all_classes': array([b'0', b'1'], dtype=object)}, {'logits': array([1.1336366], dtype=float32), 'logistic': array([0.75650936], dtype=float32), 'probabilities': array([0.24349059, 0.75650936], dtype=float32), 'class_ids': array([1], dtype=int64), 'classes': array([b'1'], dtype=object), 'all_class_ids': array([0, 1]), 'all_classes': array([b'0', b'1'], dtype=object)}, {'logits': array([-2.76221], dtype=float32), 'logistic': array([0.05940077], dtype=float32), 'probabilities': array([0.9405992 , 0.05940077], dtype=float32), 'class_ids': array([0], dtype=int64), 'classes': array([b'0'], dtype=object), 'all_class_ids': array([0, 1]), 'all_classes': array([b'0', b'1'], dtype=object)}, {'logits': array([1.3989562], dtype=float32), 'logistic': array([0.80201817], dtype=float32), 'probabilities': array([0.19798179, 0.80201817], dtype=float32), 'class_ids': array([1], dtype=int64), 'classes': array([b'1'], dtype=object), 'all_class_ids': array([0, 1]), 'all_classes': array([b'0', b'1'], dtype=object)}, {'logits': array([0.7879776], dtype=float32), 'logistic': array([0.68739694], dtype=float32), 'probabilities': array([0.3126031, 0.6873969], dtype=float32), 'class_ids': array([1], dtype=int64), 'classes': array([b'1'], dtype=object), 'all_class_ids': array([0, 1]), 'all_classes': array([b'0', b'1'], dtype=object)}, {'logits': array([0.82695186], dtype=float32), 'logistic': array([0.69571], dtype=float32), 'probabilities': array([0.30429   , 0.69571006], dtype=float32), 'class_ids': array([1], dtype=int64), 'classes': array([b'1'], dtype=object), 'all_class_ids': array([0, 1]), 'all_classes': array([b'0', b'1'], dtype=object)}, {'logits': array([-3.117434], dtype=float32), 'logistic': array([0.04239382], dtype=float32), 'probabilities': array([0.9576062 , 0.04239382], dtype=float32), 'class_ids': array([0], dtype=int64), 'classes': array([b'0'], dtype=object), 'all_class_ids': array([0, 1]), 'all_classes': array([b'0', b'1'], dtype=object)}, {'logits': array([2.3136833], dtype=float32), 'logistic': array([0.91000396], dtype=float32), 'probabilities': array([0.08999605, 0.910004  ], dtype=float32), 'class_ids': array([1], dtype=int64), 'classes': array([b'1'], dtype=object), 'all_class_ids': array([0, 1]), 'all_classes': array([b'0', b'1'], dtype=object)}, {'logits': array([0.7735045], dtype=float32), 'logistic': array([0.6842785], dtype=float32), 'probabilities': array([0.3157215, 0.6842785], dtype=float32), 'class_ids': array([1], dtype=int64), 'classes': array([b'1'], dtype=object), 'all_class_ids': array([0, 1]), 'all_classes': array([b'0', b'1'], dtype=object)}, {'logits': array([-2.3830318], dtype=float32), 'logistic': array([0.08447579], dtype=float32), 'probabilities': array([0.91552424, 0.08447579], dtype=float32), 'class_ids': array([0], dtype=int64), 'classes': array([b'0'], dtype=object), 'all_class_ids': array([0, 1]), 'all_classes': array([b'0', b'1'], dtype=object)}, {'logits': array([0.70024395], dtype=float32), 'logistic': array([0.66824186], dtype=float32), 'probabilities': array([0.33175814, 0.66824186], dtype=float32), 'class_ids': array([1], dtype=int64), 'classes': array([b'1'], dtype=object), 'all_class_ids': array([0, 1]), 'all_classes': array([b'0', b'1'], dtype=object)}, {'logits': array([-2.3524182], dtype=float32), 'logistic': array([0.08687375], dtype=float32), 'probabilities': array([0.9131263 , 0.08687375], dtype=float32), 'class_ids': array([0], dtype=int64), 'classes': array([b'0'], dtype=object), 'all_class_ids': array([0, 1]), 'all_classes': array([b'0', b'1'], dtype=object)}, {'logits': array([1.4468321], dtype=float32), 'logistic': array([0.8095104], dtype=float32), 'probabilities': array([0.1904896, 0.8095104], dtype=float32), 'class_ids': array([1], dtype=int64), 'classes': array([b'1'], dtype=object), 'all_class_ids': array([0, 1]), 'all_classes': array([b'0', b'1'], dtype=object)}, {'logits': array([0.31753442], dtype=float32), 'logistic': array([0.57872325], dtype=float32), 'probabilities': array([0.42127675, 0.5787233 ], dtype=float32), 'class_ids': array([1], dtype=int64), 'classes': array([b'1'], dtype=object), 'all_class_ids': array([0, 1]), 'all_classes': array([b'0', b'1'], dtype=object)}, {'logits': array([-2.2607627], dtype=float32), 'logistic': array([0.09442513], dtype=float32), 'probabilities': array([0.90557486, 0.09442513], dtype=float32), 'class_ids': array([0], dtype=int64), 'classes': array([b'0'], dtype=object), 'all_class_ids': array([0, 1]), 'all_classes': array([b'0', b'1'], dtype=object)}, {'logits': array([0.20854685], dtype=float32), 'logistic': array([0.55194855], dtype=float32), 'probabilities': array([0.4480514 , 0.55194855], dtype=float32), 'class_ids': array([1], dtype=int64), 'classes': array([b'1'], dtype=object), 'all_class_ids': array([0, 1]), 'all_classes': array([b'0', b'1'], dtype=object)}, {'logits': array([1.7762294], dtype=float32), 'logistic': array([0.8552306], dtype=float32), 'probabilities': array([0.14476934, 0.85523057], dtype=float32), 'class_ids': array([1], dtype=int64), 'classes': array([b'1'], dtype=object), 'all_class_ids': array([0, 1]), 'all_classes': array([b'0', b'1'], dtype=object)}, {'logits': array([-2.307322], dtype=float32), 'logistic': array([0.09051836], dtype=float32), 'probabilities': array([0.9094816 , 0.09051836], dtype=float32), 'class_ids': array([0], dtype=int64), 'classes': array([b'0'], dtype=object), 'all_class_ids': array([0, 1]), 'all_classes': array([b'0', b'1'], dtype=object)}, {'logits': array([-2.348907], dtype=float32), 'logistic': array([0.0871527], dtype=float32), 'probabilities': array([0.91284734, 0.0871527 ], dtype=float32), 'class_ids': array([0], dtype=int64), 'classes': array([b'0'], dtype=object), 'all_class_ids': array([0, 1]), 'all_classes': array([b'0', b'1'], dtype=object)}, {'logits': array([0.65566576], dtype=float32), 'logistic': array([0.6582861], dtype=float32), 'probabilities': array([0.34171394, 0.6582861 ], dtype=float32), 'class_ids': array([1], dtype=int64), 'classes': array([b'1'], dtype=object), 'all_class_ids': array([0, 1]), 'all_classes': array([b'0', b'1'], dtype=object)}, {'logits': array([-2.1341436], dtype=float32), 'logistic': array([0.10582227], dtype=float32), 'probabilities': array([0.8941778 , 0.10582228], dtype=float32), 'class_ids': array([0], dtype=int64), 'classes': array([b'0'], dtype=object), 'all_class_ids': array([0, 1]), 'all_classes': array([b'0', b'1'], dtype=object)}, {'logits': array([-2.1729617], dtype=float32), 'logistic': array([0.10220494], dtype=float32), 'probabilities': array([0.897795  , 0.10220494], dtype=float32), 'class_ids': array([0], dtype=int64), 'classes': array([b'0'], dtype=object), 'all_class_ids': array([0, 1]), 'all_classes': array([b'0', b'1'], dtype=object)}, {'logits': array([-1.5628811], dtype=float32), 'logistic': array([0.17323361], dtype=float32), 'probabilities': array([0.8267664 , 0.17323361], dtype=float32), 'class_ids': array([0], dtype=int64), 'classes': array([b'0'], dtype=object), 'all_class_ids': array([0, 1]), 'all_classes': array([b'0', b'1'], dtype=object)}, {'logits': array([-2.679788], dtype=float32), 'logistic': array([0.0641766], dtype=float32), 'probabilities': array([0.93582344, 0.0641766 ], dtype=float32), 'class_ids': array([0], dtype=int64), 'classes': array([b'0'], dtype=object), 'all_class_ids': array([0, 1]), 'all_classes': array([b'0', b'1'], dtype=object)}, {'logits': array([0.7653953], dtype=float32), 'logistic': array([0.68252397], dtype=float32), 'probabilities': array([0.31747603, 0.68252397], dtype=float32), 'class_ids': array([1], dtype=int64), 'classes': array([b'1'], dtype=object), 'all_class_ids': array([0, 1]), 'all_classes': array([b'0', b'1'], dtype=object)}, {'logits': array([-2.1510878], dtype=float32), 'logistic': array([0.10422961], dtype=float32), 'probabilities': array([0.8957704 , 0.10422962], dtype=float32), 'class_ids': array([0], dtype=int64), 'classes': array([b'0'], dtype=object), 'all_class_ids': array([0, 1]), 'all_classes': array([b'0', b'1'], dtype=object)}, {'logits': array([-3.0827606], dtype=float32), 'logistic': array([0.04382399], dtype=float32), 'probabilities': array([0.95617604, 0.04382399], dtype=float32), 'class_ids': array([0], dtype=int64), 'classes': array([b'0'], dtype=object), 'all_class_ids': array([0, 1]), 'all_classes': array([b'0', b'1'], dtype=object)}, {'logits': array([-2.415621], dtype=float32), 'logistic': array([0.08198924], dtype=float32), 'probabilities': array([0.9180108 , 0.08198924], dtype=float32), 'class_ids': array([0], dtype=int64), 'classes': array([b'0'], dtype=object), 'all_class_ids': array([0, 1]), 'all_classes': array([b'0', b'1'], dtype=object)}, {'logits': array([-2.1189194], dtype=float32), 'logistic': array([0.10727151], dtype=float32), 'probabilities': array([0.8927285 , 0.10727151], dtype=float32), 'class_ids': array([0], dtype=int64), 'classes': array([b'0'], dtype=object), 'all_class_ids': array([0, 1]), 'all_classes': array([b'0', b'1'], dtype=object)}, {'logits': array([-1.793001], dtype=float32), 'logistic': array([0.14270519], dtype=float32), 'probabilities': array([0.85729486, 0.14270519], dtype=float32), 'class_ids': array([0], dtype=int64), 'classes': array([b'0'], dtype=object), 'all_class_ids': array([0, 1]), 'all_classes': array([b'0', b'1'], dtype=object)}, {'logits': array([-1.7935392], dtype=float32), 'logistic': array([0.14263937], dtype=float32), 'probabilities': array([0.85736066, 0.14263937], dtype=float32), 'class_ids': array([0], dtype=int64), 'classes': array([b'0'], dtype=object), 'all_class_ids': array([0, 1]), 'all_classes': array([b'0', b'1'], dtype=object)}, {'logits': array([2.638541], dtype=float32), 'logistic': array([0.9333012], dtype=float32), 'probabilities': array([0.0666988 , 0.93330115], dtype=float32), 'class_ids': array([1], dtype=int64), 'classes': array([b'1'], dtype=object), 'all_class_ids': array([0, 1]), 'all_classes': array([b'0', b'1'], dtype=object)}, {'logits': array([-2.3179631], dtype=float32), 'logistic': array([0.08964615], dtype=float32), 'probabilities': array([0.9103539 , 0.08964615], dtype=float32), 'class_ids': array([0], dtype=int64), 'classes': array([b'0'], dtype=object), 'all_class_ids': array([0, 1]), 'all_classes': array([b'0', b'1'], dtype=object)}, {'logits': array([-2.2165947], dtype=float32), 'logistic': array([0.09827015], dtype=float32), 'probabilities': array([0.9017299 , 0.09827016], dtype=float32), 'class_ids': array([0], dtype=int64), 'classes': array([b'0'], dtype=object), 'all_class_ids': array([0, 1]), 'all_classes': array([b'0', b'1'], dtype=object)}, {'logits': array([0.77164066], dtype=float32), 'logistic': array([0.6838757], dtype=float32), 'probabilities': array([0.3161243, 0.6838757], dtype=float32), 'class_ids': array([1], dtype=int64), 'classes': array([b'1'], dtype=object), 'all_class_ids': array([0, 1]), 'all_classes': array([b'0', b'1'], dtype=object)}, {'logits': array([3.2347398], dtype=float32), 'logistic': array([0.9621209], dtype=float32), 'probabilities': array([0.03787913, 0.9621209 ], dtype=float32), 'class_ids': array([1], dtype=int64), 'classes': array([b'1'], dtype=object), 'all_class_ids': array([0, 1]), 'all_classes': array([b'0', b'1'], dtype=object)}, {'logits': array([-2.2853737], dtype=float32), 'logistic': array([0.09234157], dtype=float32), 'probabilities': array([0.9076584 , 0.09234157], dtype=float32), 'class_ids': array([0], dtype=int64), 'classes': array([b'0'], dtype=object), 'all_class_ids': array([0, 1]), 'all_classes': array([b'0', b'1'], dtype=object)}, {'logits': array([-2.1675005], dtype=float32), 'logistic': array([0.10270716], dtype=float32), 'probabilities': array([0.89729285, 0.10270716], dtype=float32), 'class_ids': array([0], dtype=int64), 'classes': array([b'0'], dtype=object), 'all_class_ids': array([0, 1]), 'all_classes': array([b'0', b'1'], dtype=object)}, {'logits': array([-2.348907], dtype=float32), 'logistic': array([0.0871527], dtype=float32), 'probabilities': array([0.91284734, 0.0871527 ], dtype=float32), 'class_ids': array([0], dtype=int64), 'classes': array([b'0'], dtype=object), 'all_class_ids': array([0, 1]), 'all_classes': array([b'0', b'1'], dtype=object)}, {'logits': array([0.07716307], dtype=float32), 'logistic': array([0.51928115], dtype=float32), 'probabilities': array([0.4807188, 0.5192812], dtype=float32), 'class_ids': array([1], dtype=int64), 'classes': array([b'1'], dtype=object), 'all_class_ids': array([0, 1]), 'all_classes': array([b'0', b'1'], dtype=object)}, {'logits': array([-2.0621612], dtype=float32), 'logistic': array([0.11282932], dtype=float32), 'probabilities': array([0.88717073, 0.11282933], dtype=float32), 'class_ids': array([0], dtype=int64), 'classes': array([b'0'], dtype=object), 'all_class_ids': array([0, 1]), 'all_classes': array([b'0', b'1'], dtype=object)}, {'logits': array([-1.8252875], dtype=float32), 'logistic': array([0.13880062], dtype=float32), 'probabilities': array([0.8611994 , 0.13880062], dtype=float32), 'class_ids': array([0], dtype=int64), 'classes': array([b'0'], dtype=object), 'all_class_ids': array([0, 1]), 'all_classes': array([b'0', b'1'], dtype=object)}, {'logits': array([-2.7163823], dtype=float32), 'logistic': array([0.06201357], dtype=float32), 'probabilities': array([0.93798643, 0.06201357], dtype=float32), 'class_ids': array([0], dtype=int64), 'classes': array([b'0'], dtype=object), 'all_class_ids': array([0, 1]), 'all_classes': array([b'0', b'1'], dtype=object)}, {'logits': array([-1.8252691], dtype=float32), 'logistic': array([0.13880283], dtype=float32), 'probabilities': array([0.8611972 , 0.13880283], dtype=float32), 'class_ids': array([0], dtype=int64), 'classes': array([b'0'], dtype=object), 'all_class_ids': array([0, 1]), 'all_classes': array([b'0', b'1'], dtype=object)}, {'logits': array([-2.3205967], dtype=float32), 'logistic': array([0.08943145], dtype=float32), 'probabilities': array([0.91056854, 0.08943146], dtype=float32), 'class_ids': array([0], dtype=int64), 'classes': array([b'0'], dtype=object), 'all_class_ids': array([0, 1]), 'all_classes': array([b'0', b'1'], dtype=object)}, {'logits': array([-1.5929102], dtype=float32), 'logistic': array([0.16897485], dtype=float32), 'probabilities': array([0.8310251 , 0.16897485], dtype=float32), 'class_ids': array([0], dtype=int64), 'classes': array([b'0'], dtype=object), 'all_class_ids': array([0, 1]), 'all_classes': array([b'0', b'1'], dtype=object)}, {'logits': array([-2.1072288], dtype=float32), 'logistic': array([0.10839621], dtype=float32), 'probabilities': array([0.8916038 , 0.10839622], dtype=float32), 'class_ids': array([0], dtype=int64), 'classes': array([b'0'], dtype=object), 'all_class_ids': array([0, 1]), 'all_classes': array([b'0', b'1'], dtype=object)}, {'logits': array([-0.6194743], dtype=float32), 'logistic': array([0.34990102], dtype=float32), 'probabilities': array([0.650099  , 0.34990102], dtype=float32), 'class_ids': array([0], dtype=int64), 'classes': array([b'0'], dtype=object), 'all_class_ids': array([0, 1]), 'all_classes': array([b'0', b'1'], dtype=object)}, {'logits': array([-1.6251456], dtype=float32), 'logistic': array([0.16449647], dtype=float32), 'probabilities': array([0.8355036 , 0.16449647], dtype=float32), 'class_ids': array([0], dtype=int64), 'classes': array([b'0'], dtype=object), 'all_class_ids': array([0, 1]), 'all_classes': array([b'0', b'1'], dtype=object)}, {'logits': array([-2.0381007], dtype=float32), 'logistic': array([0.11526027], dtype=float32), 'probabilities': array([0.8847397 , 0.11526027], dtype=float32), 'class_ids': array([0], dtype=int64), 'classes': array([b'0'], dtype=object), 'all_class_ids': array([0, 1]), 'all_classes': array([b'0', b'1'], dtype=object)}, {'logits': array([-1.5036273], dtype=float32), 'logistic': array([0.18188515], dtype=float32), 'probabilities': array([0.8181149 , 0.18188515], dtype=float32), 'class_ids': array([0], dtype=int64), 'classes': array([b'0'], dtype=object), 'all_class_ids': array([0, 1]), 'all_classes': array([b'0', b'1'], dtype=object)}, {'logits': array([0.5574075], dtype=float32), 'logistic': array([0.63585246], dtype=float32), 'probabilities': array([0.3641475 , 0.63585246], dtype=float32), 'class_ids': array([1], dtype=int64), 'classes': array([b'1'], dtype=object), 'all_class_ids': array([0, 1]), 'all_classes': array([b'0', b'1'], dtype=object)}, {'logits': array([-1.8252691], dtype=float32), 'logistic': array([0.13880283], dtype=float32), 'probabilities': array([0.8611972 , 0.13880283], dtype=float32), 'class_ids': array([0], dtype=int64), 'classes': array([b'0'], dtype=object), 'all_class_ids': array([0, 1]), 'all_classes': array([b'0', b'1'], dtype=object)}, {'logits': array([0.7721709], dtype=float32), 'logistic': array([0.6839903], dtype=float32), 'probabilities': array([0.3160097 , 0.68399036], dtype=float32), 'class_ids': array([1], dtype=int64), 'classes': array([b'1'], dtype=object), 'all_class_ids': array([0, 1]), 'all_classes': array([b'0', b'1'], dtype=object)}, {'logits': array([-2.0203838], dtype=float32), 'logistic': array([0.1170793], dtype=float32), 'probabilities': array([0.8829207, 0.1170793], dtype=float32), 'class_ids': array([0], dtype=int64), 'classes': array([b'0'], dtype=object), 'all_class_ids': array([0, 1]), 'all_classes': array([b'0', b'1'], dtype=object)}, {'logits': array([3.002661], dtype=float32), 'logistic': array([0.9526942], dtype=float32), 'probabilities': array([0.04730581, 0.95269424], dtype=float32), 'class_ids': array([1], dtype=int64), 'classes': array([b'1'], dtype=object), 'all_class_ids': array([0, 1]), 'all_classes': array([b'0', b'1'], dtype=object)}, {'logits': array([1.1020554], dtype=float32), 'logistic': array([0.750645], dtype=float32), 'probabilities': array([0.24935494, 0.750645  ], dtype=float32), 'class_ids': array([1], dtype=int64), 'classes': array([b'1'], dtype=object), 'all_class_ids': array([0, 1]), 'all_classes': array([b'0', b'1'], dtype=object)}, {'logits': array([-2.4828835], dtype=float32), 'logistic': array([0.07706687], dtype=float32), 'probabilities': array([0.92293316, 0.07706686], dtype=float32), 'class_ids': array([0], dtype=int64), 'classes': array([b'0'], dtype=object), 'all_class_ids': array([0, 1]), 'all_classes': array([b'0', b'1'], dtype=object)}, {'logits': array([2.6420467], dtype=float32), 'logistic': array([0.9335191], dtype=float32), 'probabilities': array([0.0664809 , 0.93351907], dtype=float32), 'class_ids': array([1], dtype=int64), 'classes': array([b'1'], dtype=object), 'all_class_ids': array([0, 1]), 'all_classes': array([b'0', b'1'], dtype=object)}, {'logits': array([-2.3160443], dtype=float32), 'logistic': array([0.08980286], dtype=float32), 'probabilities': array([0.91019714, 0.08980286], dtype=float32), 'class_ids': array([0], dtype=int64), 'classes': array([b'0'], dtype=object), 'all_class_ids': array([0, 1]), 'all_classes': array([b'0', b'1'], dtype=object)}, {'logits': array([-1.8187586], dtype=float32), 'logistic': array([0.1395829], dtype=float32), 'probabilities': array([0.86041707, 0.1395829 ], dtype=float32), 'class_ids': array([0], dtype=int64), 'classes': array([b'0'], dtype=object), 'all_class_ids': array([0, 1]), 'all_classes': array([b'0', b'1'], dtype=object)}, {'logits': array([3.363126], dtype=float32), 'logistic': array([0.96653205], dtype=float32), 'probabilities': array([0.03346796, 0.96653205], dtype=float32), 'class_ids': array([1], dtype=int64), 'classes': array([b'1'], dtype=object), 'all_class_ids': array([0, 1]), 'all_classes': array([b'0', b'1'], dtype=object)}, {'logits': array([-2.148765], dtype=float32), 'logistic': array([0.10444668], dtype=float32), 'probabilities': array([0.89555335, 0.10444668], dtype=float32), 'class_ids': array([0], dtype=int64), 'classes': array([b'0'], dtype=object), 'all_class_ids': array([0, 1]), 'all_classes': array([b'0', b'1'], dtype=object)}, {'logits': array([1.3082988], dtype=float32), 'logistic': array([0.7872284], dtype=float32), 'probabilities': array([0.21277167, 0.7872284 ], dtype=float32), 'class_ids': array([1], dtype=int64), 'classes': array([b'1'], dtype=object), 'all_class_ids': array([0, 1]), 'all_classes': array([b'0', b'1'], dtype=object)}, {'logits': array([-2.3495836], dtype=float32), 'logistic': array([0.08709887], dtype=float32), 'probabilities': array([0.9129011 , 0.08709887], dtype=float32), 'class_ids': array([0], dtype=int64), 'classes': array([b'0'], dtype=object), 'all_class_ids': array([0, 1]), 'all_classes': array([b'0', b'1'], dtype=object)}, {'logits': array([-0.8343948], dtype=float32), 'logistic': array([0.3027166], dtype=float32), 'probabilities': array([0.6972834, 0.3027166], dtype=float32), 'class_ids': array([0], dtype=int64), 'classes': array([b'0'], dtype=object), 'all_class_ids': array([0, 1]), 'all_classes': array([b'0', b'1'], dtype=object)}, {'logits': array([-2.8826184], dtype=float32), 'logistic': array([0.05301952], dtype=float32), 'probabilities': array([0.9469805 , 0.05301951], dtype=float32), 'class_ids': array([0], dtype=int64), 'classes': array([b'0'], dtype=object), 'all_class_ids': array([0, 1]), 'all_classes': array([b'0', b'1'], dtype=object)}, {'logits': array([-2.1341436], dtype=float32), 'logistic': array([0.10582227], dtype=float32), 'probabilities': array([0.8941778 , 0.10582228], dtype=float32), 'class_ids': array([0], dtype=int64), 'classes': array([b'0'], dtype=object), 'all_class_ids': array([0, 1]), 'all_classes': array([b'0', b'1'], dtype=object)}, {'logits': array([0.6487347], dtype=float32), 'logistic': array([0.6567253], dtype=float32), 'probabilities': array([0.34327474, 0.6567253 ], dtype=float32), 'class_ids': array([1], dtype=int64), 'classes': array([b'1'], dtype=object), 'all_class_ids': array([0, 1]), 'all_classes': array([b'0', b'1'], dtype=object)}, {'logits': array([2.5148876], dtype=float32), 'logistic': array([0.92517895], dtype=float32), 'probabilities': array([0.07482107, 0.9251789 ], dtype=float32), 'class_ids': array([1], dtype=int64), 'classes': array([b'1'], dtype=object), 'all_class_ids': array([0, 1]), 'all_classes': array([b'0', b'1'], dtype=object)}, {'logits': array([-1.7709199], dtype=float32), 'logistic': array([0.14542797], dtype=float32), 'probabilities': array([0.854572  , 0.14542796], dtype=float32), 'class_ids': array([0], dtype=int64), 'classes': array([b'0'], dtype=object), 'all_class_ids': array([0, 1]), 'all_classes': array([b'0', b'1'], dtype=object)}, {'logits': array([-0.5075865], dtype=float32), 'logistic': array([0.3757595], dtype=float32), 'probabilities': array([0.6242405 , 0.37575948], dtype=float32), 'class_ids': array([0], dtype=int64), 'classes': array([b'0'], dtype=object), 'all_class_ids': array([0, 1]), 'all_classes': array([b'0', b'1'], dtype=object)}, {'logits': array([-2.1162674], dtype=float32), 'logistic': array([0.10752574], dtype=float32), 'probabilities': array([0.89247423, 0.10752574], dtype=float32), 'class_ids': array([0], dtype=int64), 'classes': array([b'0'], dtype=object), 'all_class_ids': array([0, 1]), 'all_classes': array([b'0', b'1'], dtype=object)}, {'logits': array([-2.0800753], dtype=float32), 'logistic': array([0.11104853], dtype=float32), 'probabilities': array([0.8889514 , 0.11104853], dtype=float32), 'class_ids': array([0], dtype=int64), 'classes': array([b'0'], dtype=object), 'all_class_ids': array([0, 1]), 'all_classes': array([b'0', b'1'], dtype=object)}, {'logits': array([-1.0204958], dtype=float32), 'logistic': array([0.26493084], dtype=float32), 'probabilities': array([0.73506916, 0.26493084], dtype=float32), 'class_ids': array([0], dtype=int64), 'classes': array([b'0'], dtype=object), 'all_class_ids': array([0, 1]), 'all_classes': array([b'0', b'1'], dtype=object)}, {'logits': array([-1.4327712], dtype=float32), 'logistic': array([0.19266728], dtype=float32), 'probabilities': array([0.80733275, 0.19266728], dtype=float32), 'class_ids': array([0], dtype=int64), 'classes': array([b'0'], dtype=object), 'all_class_ids': array([0, 1]), 'all_classes': array([b'0', b'1'], dtype=object)}, {'logits': array([3.4196303], dtype=float32), 'logistic': array([0.96831244], dtype=float32), 'probabilities': array([0.03168757, 0.96831244], dtype=float32), 'class_ids': array([1], dtype=int64), 'classes': array([b'1'], dtype=object), 'all_class_ids': array([0, 1]), 'all_classes': array([b'0', b'1'], dtype=object)}, {'logits': array([-0.05054405], dtype=float32), 'logistic': array([0.48736668], dtype=float32), 'probabilities': array([0.5126333, 0.4873667], dtype=float32), 'class_ids': array([0], dtype=int64), 'classes': array([b'0'], dtype=object), 'all_class_ids': array([0, 1]), 'all_classes': array([b'0', b'1'], dtype=object)}, {'logits': array([-2.0493708], dtype=float32), 'logistic': array([0.11411598], dtype=float32), 'probabilities': array([0.88588405, 0.11411598], dtype=float32), 'class_ids': array([0], dtype=int64), 'classes': array([b'0'], dtype=object), 'all_class_ids': array([0, 1]), 'all_classes': array([b'0', b'1'], dtype=object)}, {'logits': array([-0.74725604], dtype=float32), 'logistic': array([0.32141948], dtype=float32), 'probabilities': array([0.6785805, 0.3214195], dtype=float32), 'class_ids': array([0], dtype=int64), 'classes': array([b'0'], dtype=object), 'all_class_ids': array([0, 1]), 'all_classes': array([b'0', b'1'], dtype=object)}, {'logits': array([0.7725185], dtype=float32), 'logistic': array([0.68406546], dtype=float32), 'probabilities': array([0.31593454, 0.6840654 ], dtype=float32), 'class_ids': array([1], dtype=int64), 'classes': array([b'1'], dtype=object), 'all_class_ids': array([0, 1]), 'all_classes': array([b'0', b'1'], dtype=object)}, {'logits': array([1.1013515], dtype=float32), 'logistic': array([0.75051326], dtype=float32), 'probabilities': array([0.24948674, 0.75051326], dtype=float32), 'class_ids': array([1], dtype=int64), 'classes': array([b'1'], dtype=object), 'all_class_ids': array([0, 1]), 'all_classes': array([b'0', b'1'], dtype=object)}, {'logits': array([-1.3390368], dtype=float32), 'logistic': array([0.2076685], dtype=float32), 'probabilities': array([0.7923315, 0.2076685], dtype=float32), 'class_ids': array([0], dtype=int64), 'classes': array([b'0'], dtype=object), 'all_class_ids': array([0, 1]), 'all_classes': array([b'0', b'1'], dtype=object)}, {'logits': array([-0.6918185], dtype=float32), 'logistic': array([0.33362865], dtype=float32), 'probabilities': array([0.66637135, 0.33362865], dtype=float32), 'class_ids': array([0], dtype=int64), 'classes': array([b'0'], dtype=object), 'all_class_ids': array([0, 1]), 'all_classes': array([b'0', b'1'], dtype=object)}, {'logits': array([-2.2255714], dtype=float32), 'logistic': array([0.09747756], dtype=float32), 'probabilities': array([0.9025225 , 0.09747756], dtype=float32), 'class_ids': array([0], dtype=int64), 'classes': array([b'0'], dtype=object), 'all_class_ids': array([0, 1]), 'all_classes': array([b'0', b'1'], dtype=object)}, {'logits': array([-1.7864593], dtype=float32), 'logistic': array([0.14350738], dtype=float32), 'probabilities': array([0.85649264, 0.14350736], dtype=float32), 'class_ids': array([0], dtype=int64), 'classes': array([b'0'], dtype=object), 'all_class_ids': array([0, 1]), 'all_classes': array([b'0', b'1'], dtype=object)}, {'logits': array([2.0975995], dtype=float32), 'logistic': array([0.89066964], dtype=float32), 'probabilities': array([0.10933036, 0.89066964], dtype=float32), 'class_ids': array([1], dtype=int64), 'classes': array([b'1'], dtype=object), 'all_class_ids': array([0, 1]), 'all_classes': array([b'0', b'1'], dtype=object)}, {'logits': array([-2.917788], dtype=float32), 'logistic': array([0.05128121], dtype=float32), 'probabilities': array([0.94871885, 0.05128121], dtype=float32), 'class_ids': array([0], dtype=int64), 'classes': array([b'0'], dtype=object), 'all_class_ids': array([0, 1]), 'all_classes': array([b'0', b'1'], dtype=object)}, {'logits': array([-2.2321575], dtype=float32), 'logistic': array([0.09689967], dtype=float32), 'probabilities': array([0.9031003 , 0.09689967], dtype=float32), 'class_ids': array([0], dtype=int64), 'classes': array([b'0'], dtype=object), 'all_class_ids': array([0, 1]), 'all_classes': array([b'0', b'1'], dtype=object)}, {'logits': array([0.03096685], dtype=float32), 'logistic': array([0.50774115], dtype=float32), 'probabilities': array([0.4922589, 0.5077411], dtype=float32), 'class_ids': array([1], dtype=int64), 'classes': array([b'1'], dtype=object), 'all_class_ids': array([0, 1]), 'all_classes': array([b'0', b'1'], dtype=object)}, {'logits': array([0.7738718], dtype=float32), 'logistic': array([0.6843579], dtype=float32), 'probabilities': array([0.31564215, 0.6843578 ], dtype=float32), 'class_ids': array([1], dtype=int64), 'classes': array([b'1'], dtype=object), 'all_class_ids': array([0, 1]), 'all_classes': array([b'0', b'1'], dtype=object)}, {'logits': array([-0.93995345], dtype=float32), 'logistic': array([0.28090975], dtype=float32), 'probabilities': array([0.7190903 , 0.28090975], dtype=float32), 'class_ids': array([0], dtype=int64), 'classes': array([b'0'], dtype=object), 'all_class_ids': array([0, 1]), 'all_classes': array([b'0', b'1'], dtype=object)}, {'logits': array([-2.6214988], dtype=float32), 'logistic': array([0.06776755], dtype=float32), 'probabilities': array([0.93223244, 0.06776754], dtype=float32), 'class_ids': array([0], dtype=int64), 'classes': array([b'0'], dtype=object), 'all_class_ids': array([0, 1]), 'all_classes': array([b'0', b'1'], dtype=object)}, {'logits': array([-1.7252165], dtype=float32), 'logistic': array([0.15120047], dtype=float32), 'probabilities': array([0.8487996 , 0.15120047], dtype=float32), 'class_ids': array([0], dtype=int64), 'classes': array([b'0'], dtype=object), 'all_class_ids': array([0, 1]), 'all_classes': array([b'0', b'1'], dtype=object)}, {'logits': array([-2.3041952], dtype=float32), 'logistic': array([0.09077612], dtype=float32), 'probabilities': array([0.9092239 , 0.09077612], dtype=float32), 'class_ids': array([0], dtype=int64), 'classes': array([b'0'], dtype=object), 'all_class_ids': array([0, 1]), 'all_classes': array([b'0', b'1'], dtype=object)}, {'logits': array([-2.8826184], dtype=float32), 'logistic': array([0.05301952], dtype=float32), 'probabilities': array([0.9469805 , 0.05301951], dtype=float32), 'class_ids': array([0], dtype=int64), 'classes': array([b'0'], dtype=object), 'all_class_ids': array([0, 1]), 'all_classes': array([b'0', b'1'], dtype=object)}, {'logits': array([-2.3308814], dtype=float32), 'logistic': array([0.08859747], dtype=float32), 'probabilities': array([0.9114025 , 0.08859747], dtype=float32), 'class_ids': array([0], dtype=int64), 'classes': array([b'0'], dtype=object), 'all_class_ids': array([0, 1]), 'all_classes': array([b'0', b'1'], dtype=object)}, {'logits': array([3.7288196], dtype=float32), 'logistic': array([0.9765423], dtype=float32), 'probabilities': array([0.02345769, 0.97654235], dtype=float32), 'class_ids': array([1], dtype=int64), 'classes': array([b'1'], dtype=object), 'all_class_ids': array([0, 1]), 'all_classes': array([b'0', b'1'], dtype=object)}, {'logits': array([1.2931794], dtype=float32), 'logistic': array([0.7846849], dtype=float32), 'probabilities': array([0.21531515, 0.78468484], dtype=float32), 'class_ids': array([1], dtype=int64), 'classes': array([b'1'], dtype=object), 'all_class_ids': array([0, 1]), 'all_classes': array([b'0', b'1'], dtype=object)}, {'logits': array([-2.293772], dtype=float32), 'logistic': array([0.09164008], dtype=float32), 'probabilities': array([0.90835994, 0.09164008], dtype=float32), 'class_ids': array([0], dtype=int64), 'classes': array([b'0'], dtype=object), 'all_class_ids': array([0, 1]), 'all_classes': array([b'0', b'1'], dtype=object)}, {'logits': array([0.83561814], dtype=float32), 'logistic': array([0.69754153], dtype=float32), 'probabilities': array([0.30245847, 0.69754153], dtype=float32), 'class_ids': array([1], dtype=int64), 'classes': array([b'1'], dtype=object), 'all_class_ids': array([0, 1]), 'all_classes': array([b'0', b'1'], dtype=object)}, {'logits': array([-0.1229789], dtype=float32), 'logistic': array([0.46929395], dtype=float32), 'probabilities': array([0.53070605, 0.46929395], dtype=float32), 'class_ids': array([0], dtype=int64), 'classes': array([b'0'], dtype=object), 'all_class_ids': array([0, 1]), 'all_classes': array([b'0', b'1'], dtype=object)}, {'logits': array([-2.3063896], dtype=float32), 'logistic': array([0.09059516], dtype=float32), 'probabilities': array([0.9094049 , 0.09059516], dtype=float32), 'class_ids': array([0], dtype=int64), 'classes': array([b'0'], dtype=object), 'all_class_ids': array([0, 1]), 'all_classes': array([b'0', b'1'], dtype=object)}, {'logits': array([-1.9970704], dtype=float32), 'logistic': array([0.11951085], dtype=float32), 'probabilities': array([0.8804892 , 0.11951085], dtype=float32), 'class_ids': array([0], dtype=int64), 'classes': array([b'0'], dtype=object), 'all_class_ids': array([0, 1]), 'all_classes': array([b'0', b'1'], dtype=object)}, {'logits': array([-1.7059637], dtype=float32), 'logistic': array([0.15368798], dtype=float32), 'probabilities': array([0.84631205, 0.15368797], dtype=float32), 'class_ids': array([0], dtype=int64), 'classes': array([b'0'], dtype=object), 'all_class_ids': array([0, 1]), 'all_classes': array([b'0', b'1'], dtype=object)}, {'logits': array([-2.0793626], dtype=float32), 'logistic': array([0.11111891], dtype=float32), 'probabilities': array([0.8888811 , 0.11111891], dtype=float32), 'class_ids': array([0], dtype=int64), 'classes': array([b'0'], dtype=object), 'all_class_ids': array([0, 1]), 'all_classes': array([b'0', b'1'], dtype=object)}, {'logits': array([0.77211607], dtype=float32), 'logistic': array([0.68397844], dtype=float32), 'probabilities': array([0.31602153, 0.68397844], dtype=float32), 'class_ids': array([1], dtype=int64), 'classes': array([b'1'], dtype=object), 'all_class_ids': array([0, 1]), 'all_classes': array([b'0', b'1'], dtype=object)}, {'logits': array([-2.3302524], dtype=float32), 'logistic': array([0.08864827], dtype=float32), 'probabilities': array([0.91135174, 0.08864827], dtype=float32), 'class_ids': array([0], dtype=int64), 'classes': array([b'0'], dtype=object), 'all_class_ids': array([0, 1]), 'all_classes': array([b'0', b'1'], dtype=object)}, {'logits': array([-0.02808967], dtype=float32), 'logistic': array([0.49297804], dtype=float32), 'probabilities': array([0.50702196, 0.49297807], dtype=float32), 'class_ids': array([0], dtype=int64), 'classes': array([b'0'], dtype=object), 'all_class_ids': array([0, 1]), 'all_classes': array([b'0', b'1'], dtype=object)}, {'logits': array([-0.12886336], dtype=float32), 'logistic': array([0.4678287], dtype=float32), 'probabilities': array([0.5321713 , 0.46782866], dtype=float32), 'class_ids': array([0], dtype=int64), 'classes': array([b'0'], dtype=object), 'all_class_ids': array([0, 1]), 'all_classes': array([b'0', b'1'], dtype=object)}, {'logits': array([-2.4495265], dtype=float32), 'logistic': array([0.07947318], dtype=float32), 'probabilities': array([0.9205268 , 0.07947318], dtype=float32), 'class_ids': array([0], dtype=int64), 'classes': array([b'0'], dtype=object), 'all_class_ids': array([0, 1]), 'all_classes': array([b'0', b'1'], dtype=object)}, {'logits': array([-1.78011], dtype=float32), 'logistic': array([0.14428955], dtype=float32), 'probabilities': array([0.85571045, 0.14428955], dtype=float32), 'class_ids': array([0], dtype=int64), 'classes': array([b'0'], dtype=object), 'all_class_ids': array([0, 1]), 'all_classes': array([b'0', b'1'], dtype=object)}, {'logits': array([1.3337785], dtype=float32), 'logistic': array([0.791465], dtype=float32), 'probabilities': array([0.20853505, 0.7914649 ], dtype=float32), 'class_ids': array([1], dtype=int64), 'classes': array([b'1'], dtype=object), 'all_class_ids': array([0, 1]), 'all_classes': array([b'0', b'1'], dtype=object)}, {'logits': array([0.26201972], dtype=float32), 'logistic': array([0.56513274], dtype=float32), 'probabilities': array([0.4348673 , 0.56513274], dtype=float32), 'class_ids': array([1], dtype=int64), 'classes': array([b'1'], dtype=object), 'all_class_ids': array([0, 1]), 'all_classes': array([b'0', b'1'], dtype=object)}, {'logits': array([-2.2342145], dtype=float32), 'logistic': array([0.09671981], dtype=float32), 'probabilities': array([0.9032802 , 0.09671981], dtype=float32), 'class_ids': array([0], dtype=int64), 'classes': array([b'0'], dtype=object), 'all_class_ids': array([0, 1]), 'all_classes': array([b'0', b'1'], dtype=object)}, {'logits': array([-0.47262678], dtype=float32), 'logistic': array([0.3839947], dtype=float32), 'probabilities': array([0.6160053, 0.3839947], dtype=float32), 'class_ids': array([0], dtype=int64), 'classes': array([b'0'], dtype=object), 'all_class_ids': array([0, 1]), 'all_classes': array([b'0', b'1'], dtype=object)}, {'logits': array([-1.1788357], dtype=float32), 'logistic': array([0.2352616], dtype=float32), 'probabilities': array([0.7647384, 0.2352616], dtype=float32), 'class_ids': array([0], dtype=int64), 'classes': array([b'0'], dtype=object), 'all_class_ids': array([0, 1]), 'all_classes': array([b'0', b'1'], dtype=object)}, {'logits': array([2.667671], dtype=float32), 'logistic': array([0.9350918], dtype=float32), 'probabilities': array([0.06490819, 0.93509185], dtype=float32), 'class_ids': array([1], dtype=int64), 'classes': array([b'1'], dtype=object), 'all_class_ids': array([0, 1]), 'all_classes': array([b'0', b'1'], dtype=object)}, {'logits': array([2.5277553], dtype=float32), 'logistic': array([0.9260648], dtype=float32), 'probabilities': array([0.0739352, 0.9260648], dtype=float32), 'class_ids': array([1], dtype=int64), 'classes': array([b'1'], dtype=object), 'all_class_ids': array([0, 1]), 'all_classes': array([b'0', b'1'], dtype=object)}, {'logits': array([-1.9498299], dtype=float32), 'logistic': array([0.1245719], dtype=float32), 'probabilities': array([0.87542814, 0.1245719 ], dtype=float32), 'class_ids': array([0], dtype=int64), 'classes': array([b'0'], dtype=object), 'all_class_ids': array([0, 1]), 'all_classes': array([b'0', b'1'], dtype=object)}, {'logits': array([0.6887785], dtype=float32), 'logistic': array([0.66569513], dtype=float32), 'probabilities': array([0.33430484, 0.66569513], dtype=float32), 'class_ids': array([1], dtype=int64), 'classes': array([b'1'], dtype=object), 'all_class_ids': array([0, 1]), 'all_classes': array([b'0', b'1'], dtype=object)}, {'logits': array([-2.2091148], dtype=float32), 'logistic': array([0.09893496], dtype=float32), 'probabilities': array([0.901065  , 0.09893495], dtype=float32), 'class_ids': array([0], dtype=int64), 'classes': array([b'0'], dtype=object), 'all_class_ids': array([0, 1]), 'all_classes': array([b'0', b'1'], dtype=object)}, {'logits': array([-1.8252875], dtype=float32), 'logistic': array([0.13880062], dtype=float32), 'probabilities': array([0.8611994 , 0.13880062], dtype=float32), 'class_ids': array([0], dtype=int64), 'classes': array([b'0'], dtype=object), 'all_class_ids': array([0, 1]), 'all_classes': array([b'0', b'1'], dtype=object)}, {'logits': array([0.54320014], dtype=float32), 'logistic': array([0.63255656], dtype=float32), 'probabilities': array([0.36744347, 0.63255656], dtype=float32), 'class_ids': array([1], dtype=int64), 'classes': array([b'1'], dtype=object), 'all_class_ids': array([0, 1]), 'all_classes': array([b'0', b'1'], dtype=object)}, {'logits': array([-2.1341984], dtype=float32), 'logistic': array([0.10581708], dtype=float32), 'probabilities': array([0.8941829 , 0.10581708], dtype=float32), 'class_ids': array([0], dtype=int64), 'classes': array([b'0'], dtype=object), 'all_class_ids': array([0, 1]), 'all_classes': array([b'0', b'1'], dtype=object)}, {'logits': array([2.7288873], dtype=float32), 'logistic': array([0.93870986], dtype=float32), 'probabilities': array([0.06129014, 0.93870986], dtype=float32), 'class_ids': array([1], dtype=int64), 'classes': array([b'1'], dtype=object), 'all_class_ids': array([0, 1]), 'all_classes': array([b'0', b'1'], dtype=object)}, {'logits': array([1.5814002], dtype=float32), 'logistic': array([0.82940274], dtype=float32), 'probabilities': array([0.17059727, 0.8294027 ], dtype=float32), 'class_ids': array([1], dtype=int64), 'classes': array([b'1'], dtype=object), 'all_class_ids': array([0, 1]), 'all_classes': array([b'0', b'1'], dtype=object)}, {'logits': array([-2.2523472], dtype=float32), 'logistic': array([0.09514719], dtype=float32), 'probabilities': array([0.9048528 , 0.09514719], dtype=float32), 'class_ids': array([0], dtype=int64), 'classes': array([b'0'], dtype=object), 'all_class_ids': array([0, 1]), 'all_classes': array([b'0', b'1'], dtype=object)}, {'logits': array([0.8885449], dtype=float32), 'logistic': array([0.7085898], dtype=float32), 'probabilities': array([0.29141018, 0.7085898 ], dtype=float32), 'class_ids': array([1], dtype=int64), 'classes': array([b'1'], dtype=object), 'all_class_ids': array([0, 1]), 'all_classes': array([b'0', b'1'], dtype=object)}, {'logits': array([-2.2516375], dtype=float32), 'logistic': array([0.09520832], dtype=float32), 'probabilities': array([0.9047917 , 0.09520832], dtype=float32), 'class_ids': array([0], dtype=int64), 'classes': array([b'0'], dtype=object), 'all_class_ids': array([0, 1]), 'all_classes': array([b'0', b'1'], dtype=object)}, {'logits': array([-1.0527798], dtype=float32), 'logistic': array([0.25869167], dtype=float32), 'probabilities': array([0.74130833, 0.25869167], dtype=float32), 'class_ids': array([0], dtype=int64), 'classes': array([b'0'], dtype=object), 'all_class_ids': array([0, 1]), 'all_classes': array([b'0', b'1'], dtype=object)}, {'logits': array([-2.3202682], dtype=float32), 'logistic': array([0.08945821], dtype=float32), 'probabilities': array([0.9105417, 0.0894582], dtype=float32), 'class_ids': array([0], dtype=int64), 'classes': array([b'0'], dtype=object), 'all_class_ids': array([0, 1]), 'all_classes': array([b'0', b'1'], dtype=object)}, {'logits': array([0.8897704], dtype=float32), 'logistic': array([0.70884275], dtype=float32), 'probabilities': array([0.29115722, 0.7088428 ], dtype=float32), 'class_ids': array([1], dtype=int64), 'classes': array([b'1'], dtype=object), 'all_class_ids': array([0, 1]), 'all_classes': array([b'0', b'1'], dtype=object)}, {'logits': array([0.21290061], dtype=float32), 'logistic': array([0.553025], dtype=float32), 'probabilities': array([0.446975  , 0.55302507], dtype=float32), 'class_ids': array([1], dtype=int64), 'classes': array([b'1'], dtype=object), 'all_class_ids': array([0, 1]), 'all_classes': array([b'0', b'1'], dtype=object)}, {'logits': array([-2.8562844], dtype=float32), 'logistic': array([0.05435737], dtype=float32), 'probabilities': array([0.9456426 , 0.05435738], dtype=float32), 'class_ids': array([0], dtype=int64), 'classes': array([b'0'], dtype=object), 'all_class_ids': array([0, 1]), 'all_classes': array([b'0', b'1'], dtype=object)}, {'logits': array([-1.3540658], dtype=float32), 'logistic': array([0.20520647], dtype=float32), 'probabilities': array([0.79479355, 0.20520647], dtype=float32), 'class_ids': array([0], dtype=int64), 'classes': array([b'0'], dtype=object), 'all_class_ids': array([0, 1]), 'all_classes': array([b'0', b'1'], dtype=object)}, {'logits': array([1.7061735], dtype=float32), 'logistic': array([0.8463393], dtype=float32), 'probabilities': array([0.15366067, 0.8463393 ], dtype=float32), 'class_ids': array([1], dtype=int64), 'classes': array([b'1'], dtype=object), 'all_class_ids': array([0, 1]), 'all_classes': array([b'0', b'1'], dtype=object)}, {'logits': array([-0.42757896], dtype=float32), 'logistic': array([0.3947046], dtype=float32), 'probabilities': array([0.60529536, 0.3947046 ], dtype=float32), 'class_ids': array([0], dtype=int64), 'classes': array([b'0'], dtype=object), 'all_class_ids': array([0, 1]), 'all_classes': array([b'0', b'1'], dtype=object)}, {'logits': array([1.8278711], dtype=float32), 'logistic': array([0.8615079], dtype=float32), 'probabilities': array([0.13849209, 0.86150795], dtype=float32), 'class_ids': array([1], dtype=int64), 'classes': array([b'1'], dtype=object), 'all_class_ids': array([0, 1]), 'all_classes': array([b'0', b'1'], dtype=object)}, {'logits': array([-0.4593099], dtype=float32), 'logistic': array([0.38714954], dtype=float32), 'probabilities': array([0.6128505 , 0.38714954], dtype=float32), 'class_ids': array([0], dtype=int64), 'classes': array([b'0'], dtype=object), 'all_class_ids': array([0, 1]), 'all_classes': array([b'0', b'1'], dtype=object)}, {'logits': array([-2.2696977], dtype=float32), 'logistic': array([0.09366388], dtype=float32), 'probabilities': array([0.9063362 , 0.09366388], dtype=float32), 'class_ids': array([0], dtype=int64), 'classes': array([b'0'], dtype=object), 'all_class_ids': array([0, 1]), 'all_classes': array([b'0', b'1'], dtype=object)}, {'logits': array([-2.0825996], dtype=float32), 'logistic': array([0.11079958], dtype=float32), 'probabilities': array([0.8892004 , 0.11079958], dtype=float32), 'class_ids': array([0], dtype=int64), 'classes': array([b'0'], dtype=object), 'all_class_ids': array([0, 1]), 'all_classes': array([b'0', b'1'], dtype=object)}, {'logits': array([-1.9792916], dtype=float32), 'logistic': array([0.12139437], dtype=float32), 'probabilities': array([0.8786056 , 0.12139437], dtype=float32), 'class_ids': array([0], dtype=int64), 'classes': array([b'0'], dtype=object), 'all_class_ids': array([0, 1]), 'all_classes': array([b'0', b'1'], dtype=object)}, {'logits': array([-3.8845348], dtype=float32), 'logistic': array([0.02014329], dtype=float32), 'probabilities': array([0.97985667, 0.02014329], dtype=float32), 'class_ids': array([0], dtype=int64), 'classes': array([b'0'], dtype=object), 'all_class_ids': array([0, 1]), 'all_classes': array([b'0', b'1'], dtype=object)}, {'logits': array([1.8649793], dtype=float32), 'logistic': array([0.86587626], dtype=float32), 'probabilities': array([0.13412374, 0.8658763 ], dtype=float32), 'class_ids': array([1], dtype=int64), 'classes': array([b'1'], dtype=object), 'all_class_ids': array([0, 1]), 'all_classes': array([b'0', b'1'], dtype=object)}, {'logits': array([0.9131204], dtype=float32), 'logistic': array([0.71363825], dtype=float32), 'probabilities': array([0.28636172, 0.71363825], dtype=float32), 'class_ids': array([1], dtype=int64), 'classes': array([b'1'], dtype=object), 'all_class_ids': array([0, 1]), 'all_classes': array([b'0', b'1'], dtype=object)}, {'logits': array([-1.8252691], dtype=float32), 'logistic': array([0.13880283], dtype=float32), 'probabilities': array([0.8611972 , 0.13880283], dtype=float32), 'class_ids': array([0], dtype=int64), 'classes': array([b'0'], dtype=object), 'all_class_ids': array([0, 1]), 'all_classes': array([b'0', b'1'], dtype=object)}, {'logits': array([-1.2896265], dtype=float32), 'logistic': array([0.21591604], dtype=float32), 'probabilities': array([0.78408396, 0.21591602], dtype=float32), 'class_ids': array([0], dtype=int64), 'classes': array([b'0'], dtype=object), 'all_class_ids': array([0, 1]), 'all_classes': array([b'0', b'1'], dtype=object)}, {'logits': array([2.0924437], dtype=float32), 'logistic': array([0.8901666], dtype=float32), 'probabilities': array([0.10983343, 0.89016664], dtype=float32), 'class_ids': array([1], dtype=int64), 'classes': array([b'1'], dtype=object), 'all_class_ids': array([0, 1]), 'all_classes': array([b'0', b'1'], dtype=object)}, {'logits': array([-0.5323945], dtype=float32), 'logistic': array([0.36995858], dtype=float32), 'probabilities': array([0.6300414 , 0.36995858], dtype=float32), 'class_ids': array([0], dtype=int64), 'classes': array([b'0'], dtype=object), 'all_class_ids': array([0, 1]), 'all_classes': array([b'0', b'1'], dtype=object)}, {'logits': array([-2.3425426], dtype=float32), 'logistic': array([0.08766035], dtype=float32), 'probabilities': array([0.9123396 , 0.08766035], dtype=float32), 'class_ids': array([0], dtype=int64), 'classes': array([b'0'], dtype=object), 'all_class_ids': array([0, 1]), 'all_classes': array([b'0', b'1'], dtype=object)}, {'logits': array([1.6851758], dtype=float32), 'logistic': array([0.84358865], dtype=float32), 'probabilities': array([0.15641133, 0.8435887 ], dtype=float32), 'class_ids': array([1], dtype=int64), 'classes': array([b'1'], dtype=object), 'all_class_ids': array([0, 1]), 'all_classes': array([b'0', b'1'], dtype=object)}, {'logits': array([1.4044752], dtype=float32), 'logistic': array([0.8028931], dtype=float32), 'probabilities': array([0.19710693, 0.8028931 ], dtype=float32), 'class_ids': array([1], dtype=int64), 'classes': array([b'1'], dtype=object), 'all_class_ids': array([0, 1]), 'all_classes': array([b'0', b'1'], dtype=object)}, {'logits': array([-2.5163686], dtype=float32), 'logistic': array([0.07471862], dtype=float32), 'probabilities': array([0.92528135, 0.07471862], dtype=float32), 'class_ids': array([0], dtype=int64), 'classes': array([b'0'], dtype=object), 'all_class_ids': array([0, 1]), 'all_classes': array([b'0', b'1'], dtype=object)}, {'logits': array([-0.23730054], dtype=float32), 'logistic': array([0.4409517], dtype=float32), 'probabilities': array([0.5590483, 0.4409517], dtype=float32), 'class_ids': array([0], dtype=int64), 'classes': array([b'0'], dtype=object), 'all_class_ids': array([0, 1]), 'all_classes': array([b'0', b'1'], dtype=object)}, {'logits': array([-1.4724649], dtype=float32), 'logistic': array([0.18656825], dtype=float32), 'probabilities': array([0.8134318 , 0.18656826], dtype=float32), 'class_ids': array([0], dtype=int64), 'classes': array([b'0'], dtype=object), 'all_class_ids': array([0, 1]), 'all_classes': array([b'0', b'1'], dtype=object)}, {'logits': array([-0.30060259], dtype=float32), 'logistic': array([0.4254102], dtype=float32), 'probabilities': array([0.57458985, 0.42541024], dtype=float32), 'class_ids': array([0], dtype=int64), 'classes': array([b'0'], dtype=object), 'all_class_ids': array([0, 1]), 'all_classes': array([b'0', b'1'], dtype=object)}]\n"
     ]
    }
   ],
   "source": [
    "result = list(linear_est.predict(eval_input_fn))\n",
    "# if you dont conver the above to a list, then it will output an object only.\n",
    "print(dfeval.loc[4])\n",
    "# this below means get the person at index 4 in the testing dataframe, and print the result of not surviving, for surviving you need to change the 0 to 1\n",
    "\n",
    "# print(result[4]['probabilities'][0])\n"
   ]
  },
  {
   "attachments": {},
   "cell_type": "markdown",
   "metadata": {},
   "source": [
    "this is CLASSIFICATION EXAMPLE."
   ]
  },
  {
   "cell_type": "code",
   "execution_count": 1,
   "metadata": {},
   "outputs": [],
   "source": [
    "from __future__ import absolute_import, division, print_function, unicode_literals\n",
    "\n",
    "import pandas as pd\n",
    "import tensorflow as tf\n",
    "CSV_COLUMN_NAMES = ['SepalLength', 'SepalWidth', 'PetalLength', 'PetalWidth', 'Species']\n",
    "SPECIES = ['Setosa', 'Versicolor', 'Virginica']\n",
    "# Lets define some constants to help us later on\n",
    "train_path = tf.keras.utils.get_file(\n",
    "    \"iris_training.csv\", \"https://storage.googleapis.com/download.tensorflow.org/data/iris_training.csv\")\n",
    "test_path = tf.keras.utils.get_file(\n",
    "    \"iris_test.csv\", \"https://storage.googleapis.com/download.tensorflow.org/data/iris_test.csv\")\n",
    "\n",
    "train = pd.read_csv(train_path, names=CSV_COLUMN_NAMES, header=0)\n",
    "test = pd.read_csv(test_path, names=CSV_COLUMN_NAMES, header=0)\n",
    "# Here we use keras (a module inside of TensorFlow) to grab our datasets and read them into a pandas dataframe"
   ]
  },
  {
   "cell_type": "code",
   "execution_count": 2,
   "metadata": {},
   "outputs": [
    {
     "name": "stdout",
     "output_type": "stream",
     "text": [
      "2.11.0\n"
     ]
    }
   ],
   "source": [
    "print(tf.__version__)"
   ]
  },
  {
   "cell_type": "code",
   "execution_count": 8,
   "metadata": {},
   "outputs": [
    {
     "data": {
      "text/html": [
       "<div>\n",
       "<style scoped>\n",
       "    .dataframe tbody tr th:only-of-type {\n",
       "        vertical-align: middle;\n",
       "    }\n",
       "\n",
       "    .dataframe tbody tr th {\n",
       "        vertical-align: top;\n",
       "    }\n",
       "\n",
       "    .dataframe thead th {\n",
       "        text-align: right;\n",
       "    }\n",
       "</style>\n",
       "<table border=\"1\" class=\"dataframe\">\n",
       "  <thead>\n",
       "    <tr style=\"text-align: right;\">\n",
       "      <th></th>\n",
       "      <th>SepalLength</th>\n",
       "      <th>SepalWidth</th>\n",
       "      <th>PetalLength</th>\n",
       "      <th>PetalWidth</th>\n",
       "    </tr>\n",
       "  </thead>\n",
       "  <tbody>\n",
       "    <tr>\n",
       "      <th>0</th>\n",
       "      <td>6.4</td>\n",
       "      <td>2.8</td>\n",
       "      <td>5.6</td>\n",
       "      <td>2.2</td>\n",
       "    </tr>\n",
       "    <tr>\n",
       "      <th>1</th>\n",
       "      <td>5.0</td>\n",
       "      <td>2.3</td>\n",
       "      <td>3.3</td>\n",
       "      <td>1.0</td>\n",
       "    </tr>\n",
       "    <tr>\n",
       "      <th>2</th>\n",
       "      <td>4.9</td>\n",
       "      <td>2.5</td>\n",
       "      <td>4.5</td>\n",
       "      <td>1.7</td>\n",
       "    </tr>\n",
       "    <tr>\n",
       "      <th>3</th>\n",
       "      <td>4.9</td>\n",
       "      <td>3.1</td>\n",
       "      <td>1.5</td>\n",
       "      <td>0.1</td>\n",
       "    </tr>\n",
       "    <tr>\n",
       "      <th>4</th>\n",
       "      <td>5.7</td>\n",
       "      <td>3.8</td>\n",
       "      <td>1.7</td>\n",
       "      <td>0.3</td>\n",
       "    </tr>\n",
       "  </tbody>\n",
       "</table>\n",
       "</div>"
      ],
      "text/plain": [
       "   SepalLength  SepalWidth  PetalLength  PetalWidth\n",
       "0          6.4         2.8          5.6         2.2\n",
       "1          5.0         2.3          3.3         1.0\n",
       "2          4.9         2.5          4.5         1.7\n",
       "3          4.9         3.1          1.5         0.1\n",
       "4          5.7         3.8          1.7         0.3"
      ]
     },
     "execution_count": 8,
     "metadata": {},
     "output_type": "execute_result"
    }
   ],
   "source": [
    "train.head()\n"
   ]
  },
  {
   "cell_type": "code",
   "execution_count": 9,
   "metadata": {},
   "outputs": [
    {
     "data": {
      "text/plain": [
       "(120, 4)"
      ]
     },
     "execution_count": 9,
     "metadata": {},
     "output_type": "execute_result"
    }
   ],
   "source": [
    "train.shape"
   ]
  },
  {
   "cell_type": "code",
   "execution_count": 5,
   "metadata": {},
   "outputs": [
    {
     "data": {
      "text/html": [
       "<div>\n",
       "<style scoped>\n",
       "    .dataframe tbody tr th:only-of-type {\n",
       "        vertical-align: middle;\n",
       "    }\n",
       "\n",
       "    .dataframe tbody tr th {\n",
       "        vertical-align: top;\n",
       "    }\n",
       "\n",
       "    .dataframe thead th {\n",
       "        text-align: right;\n",
       "    }\n",
       "</style>\n",
       "<table border=\"1\" class=\"dataframe\">\n",
       "  <thead>\n",
       "    <tr style=\"text-align: right;\">\n",
       "      <th></th>\n",
       "      <th>SepalLength</th>\n",
       "      <th>SepalWidth</th>\n",
       "      <th>PetalLength</th>\n",
       "      <th>PetalWidth</th>\n",
       "    </tr>\n",
       "  </thead>\n",
       "  <tbody>\n",
       "    <tr>\n",
       "      <th>0</th>\n",
       "      <td>6.4</td>\n",
       "      <td>2.8</td>\n",
       "      <td>5.6</td>\n",
       "      <td>2.2</td>\n",
       "    </tr>\n",
       "    <tr>\n",
       "      <th>1</th>\n",
       "      <td>5.0</td>\n",
       "      <td>2.3</td>\n",
       "      <td>3.3</td>\n",
       "      <td>1.0</td>\n",
       "    </tr>\n",
       "    <tr>\n",
       "      <th>2</th>\n",
       "      <td>4.9</td>\n",
       "      <td>2.5</td>\n",
       "      <td>4.5</td>\n",
       "      <td>1.7</td>\n",
       "    </tr>\n",
       "    <tr>\n",
       "      <th>3</th>\n",
       "      <td>4.9</td>\n",
       "      <td>3.1</td>\n",
       "      <td>1.5</td>\n",
       "      <td>0.1</td>\n",
       "    </tr>\n",
       "    <tr>\n",
       "      <th>4</th>\n",
       "      <td>5.7</td>\n",
       "      <td>3.8</td>\n",
       "      <td>1.7</td>\n",
       "      <td>0.3</td>\n",
       "    </tr>\n",
       "  </tbody>\n",
       "</table>\n",
       "</div>"
      ],
      "text/plain": [
       "   SepalLength  SepalWidth  PetalLength  PetalWidth\n",
       "0          6.4         2.8          5.6         2.2\n",
       "1          5.0         2.3          3.3         1.0\n",
       "2          4.9         2.5          4.5         1.7\n",
       "3          4.9         3.1          1.5         0.1\n",
       "4          5.7         3.8          1.7         0.3"
      ]
     },
     "execution_count": 5,
     "metadata": {},
     "output_type": "execute_result"
    }
   ],
   "source": [
    "# removes the species column from the data and assigns it to train_y\n",
    "train_y = train.pop('Species')\n",
    "test_y = test.pop('Species')\n",
    "train.head()"
   ]
  },
  {
   "cell_type": "code",
   "execution_count": 6,
   "metadata": {},
   "outputs": [
    {
     "data": {
      "text/plain": [
       "(120, 4)"
      ]
     },
     "execution_count": 6,
     "metadata": {},
     "output_type": "execute_result"
    }
   ],
   "source": [
    "train.shape"
   ]
  },
  {
   "cell_type": "code",
   "execution_count": 10,
   "metadata": {},
   "outputs": [],
   "source": [
    "# input function for classification\n",
    "def input_fn(features, labels, training=True, batch_size=256):\n",
    "    # Convert the inputs to a Dataset.\n",
    "    dataset = tf.data.Dataset.from_tensor_slices((dict(features), labels))\n",
    "    \n",
    "    # Shuffle and repeat if you are in training mode.\n",
    "    if training:\n",
    "        dataset = dataset.shuffle(1000).repeat()\n",
    "    \n",
    "    return dataset.batch(batch_size)\n",
    "\n",
    "# the above code is used to create a dataset object that we can feed to the model\n",
    "# the dataset object is a collection of batches of data\n",
    "# the dataset object is used to feed the model in batches of a given size"
   ]
  },
  {
   "cell_type": "code",
   "execution_count": 11,
   "metadata": {},
   "outputs": [
    {
     "name": "stdout",
     "output_type": "stream",
     "text": [
      "[NumericColumn(key='SepalLength', shape=(1,), default_value=None, dtype=tf.float32, normalizer_fn=None), NumericColumn(key='SepalWidth', shape=(1,), default_value=None, dtype=tf.float32, normalizer_fn=None), NumericColumn(key='PetalLength', shape=(1,), default_value=None, dtype=tf.float32, normalizer_fn=None), NumericColumn(key='PetalWidth', shape=(1,), default_value=None, dtype=tf.float32, normalizer_fn=None)]\n"
     ]
    }
   ],
   "source": [
    "my_feature_columns = []\n",
    "for key in train.keys():\n",
    "    my_feature_columns.append(tf.feature_column.numeric_column(key=key))\n",
    "print(my_feature_columns)"
   ]
  },
  {
   "cell_type": "code",
   "execution_count": 12,
   "metadata": {},
   "outputs": [
    {
     "name": "stdout",
     "output_type": "stream",
     "text": [
      "INFO:tensorflow:Using default config.\n",
      "WARNING:tensorflow:Using temporary folder as model directory: C:\\Users\\PHILIP\\AppData\\Local\\Temp\\tmp7j_qp28t\n",
      "INFO:tensorflow:Using config: {'_model_dir': 'C:\\\\Users\\\\PHILIP\\\\AppData\\\\Local\\\\Temp\\\\tmp7j_qp28t', '_tf_random_seed': None, '_save_summary_steps': 100, '_save_checkpoints_steps': None, '_save_checkpoints_secs': 600, '_session_config': allow_soft_placement: true\n",
      "graph_options {\n",
      "  rewrite_options {\n",
      "    meta_optimizer_iterations: ONE\n",
      "  }\n",
      "}\n",
      ", '_keep_checkpoint_max': 5, '_keep_checkpoint_every_n_hours': 10000, '_log_step_count_steps': 100, '_train_distribute': None, '_device_fn': None, '_protocol': None, '_eval_distribute': None, '_experimental_distribute': None, '_experimental_max_worker_delay_secs': None, '_session_creation_timeout_secs': 7200, '_checkpoint_save_graph_def': True, '_service': None, '_cluster_spec': ClusterSpec({}), '_task_type': 'worker', '_task_id': 0, '_global_id_in_cluster': 0, '_master': '', '_evaluation_master': '', '_is_chief': True, '_num_ps_replicas': 0, '_num_worker_replicas': 1}\n"
     ]
    }
   ],
   "source": [
    "# For classification tasks there are variety of different estimators/models that we can pick from. Some options are listed below.\n",
    "\n",
    "# DNNClassifier (Deep Neural Network)\n",
    "# LinearClassifier\n",
    "# We can choose either model but the DNN seems to be the best choice. This is because we may not be able to find a linear coorespondence in our data.\n",
    "classifier = tf.estimator.DNNClassifier(\n",
    "    feature_columns=my_feature_columns,\n",
    "    # Two hidden layers of 30 and 10 nodes respectively.\n",
    "    hidden_units=[30, 10],\n",
    "    # The model must choose between 3 classes.\n",
    "    n_classes=3)"
   ]
  },
  {
   "attachments": {},
   "cell_type": "markdown",
   "metadata": {},
   "source": [
    "What we've just done is created a deep neural network that has two hidden layers. These layers have 30 and 10 neurons respectively. This is the number of neurons the TensorFlow official tutorial uses so we'll stick with it. However, it is worth mentioning that the number of hidden neurons is an arbitrary number and many experiments and tests are usually done to determine the best choice for these values. Try playing around with the number of hidden neurons and see if your results change."
   ]
  },
  {
   "cell_type": "code",
   "execution_count": 13,
   "metadata": {},
   "outputs": [
    {
     "name": "stdout",
     "output_type": "stream",
     "text": [
      "WARNING:tensorflow:From c:\\Users\\PHILIP\\AppData\\Local\\Programs\\Python\\Python310\\lib\\site-packages\\tensorflow\\python\\training\\training_util.py:396: Variable.initialized_value (from tensorflow.python.ops.variables) is deprecated and will be removed in a future version.\n",
      "Instructions for updating:\n",
      "Use Variable.read_value. Variables in 2.X are initialized automatically both in eager and graph (inside tf.defun) contexts.\n",
      "INFO:tensorflow:Calling model_fn.\n",
      "WARNING:tensorflow:From c:\\Users\\PHILIP\\AppData\\Local\\Programs\\Python\\Python310\\lib\\site-packages\\keras\\optimizers\\optimizer_v2\\adagrad.py:93: calling Constant.__init__ (from tensorflow.python.ops.init_ops) with dtype is deprecated and will be removed in a future version.\n",
      "Instructions for updating:\n",
      "Call initializer instance with the dtype argument instead of passing it to the constructor\n",
      "INFO:tensorflow:Done calling model_fn.\n",
      "INFO:tensorflow:Create CheckpointSaverHook.\n",
      "INFO:tensorflow:Graph was finalized.\n",
      "INFO:tensorflow:Running local_init_op.\n",
      "INFO:tensorflow:Done running local_init_op.\n",
      "INFO:tensorflow:Calling checkpoint listeners before saving checkpoint 0...\n",
      "INFO:tensorflow:Saving checkpoints for 0 into C:\\Users\\PHILIP\\AppData\\Local\\Temp\\tmp7j_qp28t\\model.ckpt.\n",
      "INFO:tensorflow:Calling checkpoint listeners after saving checkpoint 0...\n",
      "INFO:tensorflow:loss = 1.6947484, step = 0\n",
      "INFO:tensorflow:global_step/sec: 183.544\n",
      "INFO:tensorflow:loss = 0.9437779, step = 100 (0.546 sec)\n",
      "INFO:tensorflow:global_step/sec: 586.902\n",
      "INFO:tensorflow:loss = 0.80392027, step = 200 (0.171 sec)\n",
      "INFO:tensorflow:global_step/sec: 259.549\n",
      "INFO:tensorflow:loss = 0.7324176, step = 300 (0.389 sec)\n",
      "INFO:tensorflow:global_step/sec: 229.848\n",
      "INFO:tensorflow:loss = 0.69189155, step = 400 (0.434 sec)\n",
      "INFO:tensorflow:global_step/sec: 250.944\n",
      "INFO:tensorflow:loss = 0.65401715, step = 500 (0.396 sec)\n",
      "INFO:tensorflow:global_step/sec: 296.106\n",
      "INFO:tensorflow:loss = 0.6424537, step = 600 (0.341 sec)\n",
      "INFO:tensorflow:global_step/sec: 292.075\n",
      "INFO:tensorflow:loss = 0.6154639, step = 700 (0.338 sec)\n",
      "INFO:tensorflow:global_step/sec: 509.271\n",
      "INFO:tensorflow:loss = 0.60780203, step = 800 (0.196 sec)\n",
      "INFO:tensorflow:global_step/sec: 202.919\n",
      "INFO:tensorflow:loss = 0.5907677, step = 900 (0.494 sec)\n",
      "INFO:tensorflow:global_step/sec: 181.65\n",
      "INFO:tensorflow:loss = 0.57998765, step = 1000 (0.551 sec)\n",
      "INFO:tensorflow:global_step/sec: 244.409\n",
      "INFO:tensorflow:loss = 0.56874025, step = 1100 (0.410 sec)\n",
      "INFO:tensorflow:global_step/sec: 222.821\n",
      "INFO:tensorflow:loss = 0.55178195, step = 1200 (0.452 sec)\n",
      "INFO:tensorflow:global_step/sec: 247.576\n",
      "INFO:tensorflow:loss = 0.54129606, step = 1300 (0.402 sec)\n",
      "INFO:tensorflow:global_step/sec: 324.261\n",
      "INFO:tensorflow:loss = 0.53908944, step = 1400 (0.308 sec)\n",
      "INFO:tensorflow:global_step/sec: 322.943\n",
      "INFO:tensorflow:loss = 0.529258, step = 1500 (0.308 sec)\n",
      "INFO:tensorflow:global_step/sec: 324.549\n",
      "INFO:tensorflow:loss = 0.5378623, step = 1600 (0.320 sec)\n",
      "INFO:tensorflow:global_step/sec: 166.776\n",
      "INFO:tensorflow:loss = 0.52423364, step = 1700 (0.591 sec)\n",
      "INFO:tensorflow:global_step/sec: 199.597\n",
      "INFO:tensorflow:loss = 0.5069242, step = 1800 (0.509 sec)\n",
      "INFO:tensorflow:global_step/sec: 337.205\n",
      "INFO:tensorflow:loss = 0.5000732, step = 1900 (0.284 sec)\n",
      "INFO:tensorflow:global_step/sec: 240.466\n",
      "INFO:tensorflow:loss = 0.50468904, step = 2000 (0.419 sec)\n",
      "INFO:tensorflow:global_step/sec: 221.383\n",
      "INFO:tensorflow:loss = 0.4997751, step = 2100 (0.448 sec)\n",
      "INFO:tensorflow:global_step/sec: 337.713\n",
      "INFO:tensorflow:loss = 0.4902381, step = 2200 (0.296 sec)\n",
      "INFO:tensorflow:global_step/sec: 543.476\n",
      "INFO:tensorflow:loss = 0.4970773, step = 2300 (0.184 sec)\n",
      "INFO:tensorflow:global_step/sec: 513.206\n",
      "INFO:tensorflow:loss = 0.48274788, step = 2400 (0.194 sec)\n",
      "INFO:tensorflow:global_step/sec: 449.511\n",
      "INFO:tensorflow:loss = 0.47617775, step = 2500 (0.224 sec)\n",
      "INFO:tensorflow:global_step/sec: 403.185\n",
      "INFO:tensorflow:loss = 0.48626557, step = 2600 (0.248 sec)\n",
      "INFO:tensorflow:global_step/sec: 397.004\n",
      "INFO:tensorflow:loss = 0.4726501, step = 2700 (0.251 sec)\n",
      "INFO:tensorflow:global_step/sec: 352.241\n",
      "INFO:tensorflow:loss = 0.48348984, step = 2800 (0.285 sec)\n",
      "INFO:tensorflow:global_step/sec: 350.111\n",
      "INFO:tensorflow:loss = 0.47539562, step = 2900 (0.284 sec)\n",
      "INFO:tensorflow:global_step/sec: 329.666\n",
      "INFO:tensorflow:loss = 0.4601723, step = 3000 (0.306 sec)\n",
      "INFO:tensorflow:global_step/sec: 337.217\n",
      "INFO:tensorflow:loss = 0.45275575, step = 3100 (0.295 sec)\n",
      "INFO:tensorflow:global_step/sec: 313.245\n",
      "INFO:tensorflow:loss = 0.44518158, step = 3200 (0.319 sec)\n",
      "INFO:tensorflow:global_step/sec: 320.065\n",
      "INFO:tensorflow:loss = 0.4449141, step = 3300 (0.312 sec)\n",
      "INFO:tensorflow:global_step/sec: 325.907\n",
      "INFO:tensorflow:loss = 0.4574853, step = 3400 (0.307 sec)\n",
      "INFO:tensorflow:global_step/sec: 311.683\n",
      "INFO:tensorflow:loss = 0.440891, step = 3500 (0.323 sec)\n",
      "INFO:tensorflow:global_step/sec: 307.589\n",
      "INFO:tensorflow:loss = 0.43717206, step = 3600 (0.324 sec)\n",
      "INFO:tensorflow:global_step/sec: 239.704\n",
      "INFO:tensorflow:loss = 0.44079527, step = 3700 (0.418 sec)\n",
      "INFO:tensorflow:global_step/sec: 319.838\n",
      "INFO:tensorflow:loss = 0.43684974, step = 3800 (0.312 sec)\n",
      "INFO:tensorflow:global_step/sec: 315.562\n",
      "INFO:tensorflow:loss = 0.43285903, step = 3900 (0.316 sec)\n",
      "INFO:tensorflow:global_step/sec: 322.044\n",
      "INFO:tensorflow:loss = 0.43115637, step = 4000 (0.313 sec)\n",
      "INFO:tensorflow:global_step/sec: 312.264\n",
      "INFO:tensorflow:loss = 0.42305064, step = 4100 (0.320 sec)\n",
      "INFO:tensorflow:global_step/sec: 249.725\n",
      "INFO:tensorflow:loss = 0.420864, step = 4200 (0.400 sec)\n",
      "INFO:tensorflow:global_step/sec: 319.87\n",
      "INFO:tensorflow:loss = 0.42494115, step = 4300 (0.311 sec)\n",
      "INFO:tensorflow:global_step/sec: 326.626\n",
      "INFO:tensorflow:loss = 0.41785958, step = 4400 (0.307 sec)\n",
      "INFO:tensorflow:global_step/sec: 318.362\n",
      "INFO:tensorflow:loss = 0.4231422, step = 4500 (0.313 sec)\n",
      "INFO:tensorflow:global_step/sec: 330.342\n",
      "INFO:tensorflow:loss = 0.43350667, step = 4600 (0.305 sec)\n",
      "INFO:tensorflow:global_step/sec: 289.28\n",
      "INFO:tensorflow:loss = 0.4227063, step = 4700 (0.345 sec)\n",
      "INFO:tensorflow:global_step/sec: 328.739\n",
      "INFO:tensorflow:loss = 0.41603756, step = 4800 (0.304 sec)\n",
      "INFO:tensorflow:global_step/sec: 360.593\n",
      "INFO:tensorflow:loss = 0.40411356, step = 4900 (0.276 sec)\n",
      "INFO:tensorflow:Calling checkpoint listeners before saving checkpoint 5000...\n",
      "INFO:tensorflow:Saving checkpoints for 5000 into C:\\Users\\PHILIP\\AppData\\Local\\Temp\\tmp7j_qp28t\\model.ckpt.\n",
      "INFO:tensorflow:Calling checkpoint listeners after saving checkpoint 5000...\n",
      "INFO:tensorflow:Loss for final step: 0.40858868.\n"
     ]
    },
    {
     "data": {
      "text/plain": [
       "<tensorflow_estimator.python.estimator.canned.dnn.DNNClassifierV2 at 0x2181ab66110>"
      ]
     },
     "execution_count": 13,
     "metadata": {},
     "output_type": "execute_result"
    }
   ],
   "source": [
    "# training the model\n",
    "classifier.train(\n",
    "    input_fn=lambda: input_fn(train, train_y, training=True),\n",
    "    # steps is similar to epochs, it is the number of times the model sees the same data\n",
    "    steps=5000)\n",
    "# We include a lambda to avoid creating an inner function previously\n",
    "# example of using lambda\n",
    "# x=lambda a: a+10\n",
    "# print(x(5))\n",
    "# the above code will print 15"
   ]
  },
  {
   "cell_type": "code",
   "execution_count": 14,
   "metadata": {},
   "outputs": [
    {
     "name": "stdout",
     "output_type": "stream",
     "text": [
      "INFO:tensorflow:Calling model_fn.\n",
      "INFO:tensorflow:Done calling model_fn.\n",
      "INFO:tensorflow:Starting evaluation at 2023-03-21T11:36:28\n",
      "INFO:tensorflow:Graph was finalized.\n",
      "INFO:tensorflow:Restoring parameters from C:\\Users\\PHILIP\\AppData\\Local\\Temp\\tmp7j_qp28t\\model.ckpt-5000\n",
      "INFO:tensorflow:Running local_init_op.\n",
      "INFO:tensorflow:Done running local_init_op.\n",
      "INFO:tensorflow:Inference Time : 3.88134s\n",
      "INFO:tensorflow:Finished evaluation at 2023-03-21-11:36:32\n",
      "INFO:tensorflow:Saving dict for global step 5000: accuracy = 0.8333333, average_loss = 0.48002633, global_step = 5000, loss = 0.48002633\n",
      "INFO:tensorflow:Saving 'checkpoint_path' summary for global step 5000: C:\\Users\\PHILIP\\AppData\\Local\\Temp\\tmp7j_qp28t\\model.ckpt-5000\n",
      "\n",
      "Test set accuracy: 0.833\n",
      "\n"
     ]
    }
   ],
   "source": [
    "eval_result = classifier.evaluate(\n",
    "    input_fn=lambda: input_fn(test, test_y, training=False))\n",
    "\n",
    "print('\\nTest set accuracy: {accuracy:0.3f}\\n'.format(**eval_result))"
   ]
  },
  {
   "cell_type": "code",
   "execution_count": 17,
   "metadata": {},
   "outputs": [
    {
     "name": "stdout",
     "output_type": "stream",
     "text": [
      "Please type numeric values as prompted.\n",
      "INFO:tensorflow:Calling model_fn.\n",
      "INFO:tensorflow:Done calling model_fn.\n",
      "INFO:tensorflow:Graph was finalized.\n",
      "INFO:tensorflow:Restoring parameters from C:\\Users\\PHILIP\\AppData\\Local\\Temp\\tmp7j_qp28t\\model.ckpt-5000\n",
      "INFO:tensorflow:Running local_init_op.\n",
      "INFO:tensorflow:Done running local_init_op.\n",
      "Prediction is \"Virginica\" (90.7%)\n"
     ]
    }
   ],
   "source": [
    "def input_fn(features, batch_size=256):\n",
    "    # Convert the inputs to a Dataset without labels.\n",
    "    return tf.data.Dataset.from_tensor_slices(dict(features)).batch(batch_size)\n",
    "\n",
    "features = ['SepalLength', 'SepalWidth', 'PetalLength', 'PetalWidth']\n",
    "predict = {}\n",
    "\n",
    "print(\"Please type numeric values as prompted.\")\n",
    "for feature in features:\n",
    "  valid = True\n",
    "  while valid: \n",
    "    val = input(feature + \": \")\n",
    "    if not val.isdigit(): valid = False\n",
    "\n",
    "  predict[feature] = [float(val)]\n",
    "\n",
    "predictions = classifier.predict(input_fn=lambda: input_fn(predict))\n",
    "for pred_dict in predictions:\n",
    "    class_id = pred_dict['class_ids'][0]\n",
    "    probability = pred_dict['probabilities'][class_id]\n",
    "\n",
    "    print('Prediction is \"{}\" ({:.1f}%)'.format(\n",
    "        SPECIES[class_id], 100 * probability))"
   ]
  },
  {
   "attachments": {},
   "cell_type": "markdown",
   "metadata": {},
   "source": [
    "HIDDEN MARKOV MODELS\n",
    "\n",
    "A hidden markov model works with probabilities to predict future events or states. \n"
   ]
  },
  {
   "cell_type": "code",
   "execution_count": 19,
   "metadata": {},
   "outputs": [],
   "source": [
    "import tensorflow_probability as tfp  # We are using a different module from tensorflow this time\n",
    "# the above import is used to import the tensorflow probability module used in markov models"
   ]
  },
  {
   "cell_type": "code",
   "execution_count": 20,
   "metadata": {},
   "outputs": [],
   "source": [
    "tfd = tfp.distributions  # making a shortcut for later on\n",
    "initial_distribution = tfd.Categorical(probs=[0.2, 0.8])  # Refer to point 2 above\n",
    "transition_distribution = tfd.Categorical(probs=[[0.5, 0.5],\n",
    "                                                 [0.2, 0.8]])  # refer to points 3 and 4 above\n",
    "observation_distribution = tfd.Normal(loc=[0., 15.], scale=[5., 10.]) "
   ]
  },
  {
   "attachments": {},
   "cell_type": "markdown",
   "metadata": {},
   "source": [
    "Cold days are encoded by a 0 and hot days are encoded by a 1.\n",
    "The first day in our sequence has an 80% chance of being cold.\n",
    "A cold day has a 30% chance of being followed by a hot day.\n",
    "A hot day has a 20% chance of being followed by a cold day.\n",
    "On each day the temperature is normally distributed with mean and standard deviation 0 and 5 on a cold day and mean and standard deviation 15 and 10 on a hot day."
   ]
  },
  {
   "cell_type": "code",
   "execution_count": 21,
   "metadata": {},
   "outputs": [],
   "source": [
    "# refer to point 5 above\n",
    "model = tfd.HiddenMarkovModel(\n",
    "    initial_distribution=initial_distribution,\n",
    "    transition_distribution=transition_distribution,\n",
    "    observation_distribution=observation_distribution,\n",
    "    num_steps=7)\n",
    "# The number of steps represents the number of days that we would like to predict information for. In this case we've chosen 7, an entire week"
   ]
  },
  {
   "cell_type": "code",
   "execution_count": 23,
   "metadata": {},
   "outputs": [
    {
     "name": "stdout",
     "output_type": "stream",
     "text": [
      "[11.999999 11.1      10.830001 10.748999 10.724698 10.71741  10.715222]\n"
     ]
    }
   ],
   "source": [
    "mean = model.mean()\n",
    "\n",
    "# due to the way TensorFlow works on a lower level we need to evaluate part of the graph\n",
    "# from within a session to see the value of this tensor\n",
    "\n",
    "# in the new version of tensorflow we need to use tf.compat.v1.Session() rather than just tf.Session()\n",
    "with tf.compat.v1.Session() as sess:  \n",
    "  print(mean.numpy())"
   ]
  },
  {
   "attachments": {},
   "cell_type": "markdown",
   "metadata": {},
   "source": [
    "CNN"
   ]
  },
  {
   "attachments": {},
   "cell_type": "markdown",
   "metadata": {},
   "source": [
    "Optimizer\n",
    "You may sometimes see the term optimizer or optimization function. This is simply the function that implements the backpropagation algorithm described above.\n",
    "\n",
    "IT DOES THE GRADIENT DESCENT."
   ]
  },
  {
   "attachments": {},
   "cell_type": "markdown",
   "metadata": {},
   "source": [
    "GPU SPEEDS UP UR COMPUTATION SPEED WHILE DEALING COMPUTER VISION."
   ]
  },
  {
   "cell_type": "code",
   "execution_count": null,
   "metadata": {},
   "outputs": [],
   "source": []
  }
 ],
 "metadata": {
  "kernelspec": {
   "display_name": "Python 3",
   "language": "python",
   "name": "python3"
  },
  "language_info": {
   "codemirror_mode": {
    "name": "ipython",
    "version": 3
   },
   "file_extension": ".py",
   "mimetype": "text/x-python",
   "name": "python",
   "nbconvert_exporter": "python",
   "pygments_lexer": "ipython3",
   "version": "3.10.6"
  },
  "orig_nbformat": 4
 },
 "nbformat": 4,
 "nbformat_minor": 2
}
