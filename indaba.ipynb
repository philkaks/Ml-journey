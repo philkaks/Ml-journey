{
 "cells": [
  {
   "attachments": {},
   "cell_type": "markdown",
   "metadata": {},
   "source": [
    "synthetic data , its fake data , but can increase the data at disposal for training the model.\n"
   ]
  },
  {
   "attachments": {},
   "cell_type": "markdown",
   "metadata": {},
   "source": [
    "# INTRODUCTION TO MACHINE LEARNING.\n",
    " base is the main object your looking for\n",
    "head are the fearures of the data you are looking for e.g if its a car then the feature are the wheels, engine, doors etc\n",
    "\n",
    "#  Reproducability. it enables the code run on different machines and still get the same results\n",
    "# shuffle prevents overfitting the model.\n",
    "\n",
    "# fine tuning is the process of training the model on new data to improve its performance without trashing the already learned data from the previous training on the weights .\n",
    "# example of fine tuning is  teachable machine , it uses mobile v net which is already trianed but it still learns .\n",
    "synthetic data , its fake data , but can increase the data at disposal for training the model.\n",
    "\n",
    "\n",
    "\n",
    "\n",
    "in H5 format, the model is saved with everything. the weights , the architecture and all the related information.\n",
    "in the tensorflow lite format the model is normally lite and can be used in development "
   ]
  }
 ],
 "metadata": {
  "language_info": {
   "name": "python"
  },
  "orig_nbformat": 4
 },
 "nbformat": 4,
 "nbformat_minor": 2
}
