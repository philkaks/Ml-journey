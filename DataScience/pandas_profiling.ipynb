{
 "cells": [
  {
   "cell_type": "markdown",
   "metadata": {},
   "source": [
    "## PANDAS PROFILING.\n",
    "IT IS A LIBRARY THAT GENERATES REPORTS FROM A PANDAS DATAFRAME.\n",
    "It saves a lot of time and gives a lot of information about the data in the minimum time.\n",
    "\n",
    "# disadvantage: \n",
    "it is not suitable for large datasets."
   ]
  },
  {
   "cell_type": "code",
   "execution_count": 1,
   "metadata": {},
   "outputs": [
    {
     "name": "stderr",
     "output_type": "stream",
     "text": [
      "c:\\Users\\PHILIP\\AppData\\Local\\Programs\\Python\\Python310\\lib\\site-packages\\tqdm\\auto.py:21: TqdmWarning: IProgress not found. Please update jupyter and ipywidgets. See https://ipywidgets.readthedocs.io/en/stable/user_install.html\n",
      "  from .autonotebook import tqdm as notebook_tqdm\n",
      "C:\\Users\\PHILIP\\AppData\\Local\\Temp\\ipykernel_13128\\1841426206.py:1: DeprecationWarning: `import pandas_profiling` is going to be deprecated by April 1st. Please use `import ydata_profiling` instead.\n",
      "  from pandas_profiling import ProfileReport\n",
      "Summarize dataset: 100%|██████████| 27/27 [00:07<00:00,  3.60it/s, Completed]                       \n",
      "Generate report structure: 100%|██████████| 1/1 [00:03<00:00,  3.85s/it]\n",
      "Render HTML: 100%|██████████| 1/1 [00:01<00:00,  1.44s/it]\n",
      "Export report to file: 100%|██████████| 1/1 [00:00<00:00, 150.12it/s]\n"
     ]
    }
   ],
   "source": [
    "from pandas_profiling import ProfileReport\n",
    "import pandas as pd\n",
    "starbucks_locations = pd.read_csv(\"datasets/directory.csv\")\n",
    "prof = ProfileReport(starbucks_locations)\n",
    "prof.to_file(output_file='output.html')"
   ]
  },
  {
   "cell_type": "markdown",
   "metadata": {},
   "source": [
    "\n",
    "# How to solve the problem:\n"
   ]
  },
  {
   "cell_type": "code",
   "execution_count": 3,
   "metadata": {},
   "outputs": [
    {
     "name": "stderr",
     "output_type": "stream",
     "text": [
      "Summarize dataset:   0%|          | 0/5 [00:00<?, ?it/s]"
     ]
    },
    {
     "name": "stderr",
     "output_type": "stream",
     "text": [
      "Summarize dataset: 100%|██████████| 58/58 [00:28<00:00,  2.01it/s, Completed]                                   \n",
      "Generate report structure: 100%|██████████| 1/1 [00:10<00:00, 10.29s/it]\n",
      "Render HTML: 100%|██████████| 1/1 [00:05<00:00,  5.65s/it]\n",
      "Export report to file: 100%|██████████| 1/1 [00:00<00:00, 20.64it/s]\n"
     ]
    }
   ],
   "source": [
    "# break down the the dataframe into sections and then use profiling on each section\n",
    "\n",
    "#We only use the first 10000 data points\n",
    "london_housing = pd.read_csv(\"datasets/housing_in_london_yearly_variables.csv\")\n",
    "prof = ProfileReport(london_housing.sample(n=1000))\n",
    " \n",
    "prof.to_file(output_file='londonHousing.html')"
   ]
  }
 ],
 "metadata": {
  "kernelspec": {
   "display_name": "Python 3",
   "language": "python",
   "name": "python3"
  },
  "language_info": {
   "codemirror_mode": {
    "name": "ipython",
    "version": 3
   },
   "file_extension": ".py",
   "mimetype": "text/x-python",
   "name": "python",
   "nbconvert_exporter": "python",
   "pygments_lexer": "ipython3",
   "version": "3.10.6"
  },
  "orig_nbformat": 4
 },
 "nbformat": 4,
 "nbformat_minor": 2
}
