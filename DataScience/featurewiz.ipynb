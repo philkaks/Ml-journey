{
 "cells": [
  {
   "cell_type": "markdown",
   "metadata": {},
   "source": [
    "## FEATUREWIZ\n",
    "#enables selection of features from a dataset, features to focus on, and features to ignore, this reduces number of model parameters and improves model performance\n",
    "\n",
    ">>it reduces time to train a model, since only the variables that are important are used to train the model.\n",
    "Minimum-Redundancy-Maximum-Relevance (MRMR)\n",
    "\n",
    "\n",
    ">> uses the SULOV algorithm to select features that are highly correlated with the target variable and at the same time have low correlation with each other.\n",
    ">>THEN AFTER IT USES THE XGBOOST ALGORITHM TO Repeatedly find the best features among the remaining variables after SULOV.\n"
   ]
  },
  {
   "cell_type": "code",
   "execution_count": 2,
   "metadata": {},
   "outputs": [
    {
     "name": "stdout",
     "output_type": "stream",
     "text": [
      "Imported 0.3.2 version. Select nrows to a small number when running on huge datasets.\n",
      "output = featurewiz(dataname, target, corr_limit=0.90, verbose=2, sep=',', \n",
      "\t\theader=0, test_data='',feature_engg='', category_encoders='',\n",
      "\t\tdask_xgboost_flag=False, nrows=None, skip_sulov=False, skip_xgboost=False)\n",
      "Create new features via 'feature_engg' flag : ['interactions','groupby','target']\n",
      "\n"
     ]
    }
   ],
   "source": [
    "import featurewiz as gwiz\n",
    "\n",
    "# ? The first method converts your features to numeric and returns a modified dataset that is all converted and far less features\n",
    "# ? The second method, is a scikit-learn transformer that simply returns fewer features but does not convert them to numeric."
   ]
  },
  {
   "cell_type": "code",
   "execution_count": 4,
   "metadata": {},
   "outputs": [
    {
     "name": "stdout",
     "output_type": "stream",
     "text": [
      "wiz = FeatureWiz(verbose=1)\n",
      "        X_train_selected = wiz.fit_transform(X_train, y_train)\n",
      "        X_test_selected = wiz.transform(X_test)\n",
      "        wiz.features  ### provides a list of selected features ###            \n",
      "        \n"
     ]
    }
   ],
   "source": [
    "#? SECOND METHOD \n",
    "\n",
    "wiz =gwiz.FeatureWiz(verbose=1)\n",
    "\n",
    "\n",
    "#! verbose controls how much information Featurewiz prints out during the feature engineering process"
   ]
  },
  {
   "cell_type": "code",
   "execution_count": null,
   "metadata": {},
   "outputs": [],
   "source": []
  }
 ],
 "metadata": {
  "kernelspec": {
   "display_name": "Python 3",
   "language": "python",
   "name": "python3"
  },
  "language_info": {
   "codemirror_mode": {
    "name": "ipython",
    "version": 3
   },
   "file_extension": ".py",
   "mimetype": "text/x-python",
   "name": "python",
   "nbconvert_exporter": "python",
   "pygments_lexer": "ipython3",
   "version": "3.10.6"
  },
  "orig_nbformat": 4
 },
 "nbformat": 4,
 "nbformat_minor": 2
}
